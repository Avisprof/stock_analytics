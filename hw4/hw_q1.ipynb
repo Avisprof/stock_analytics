{
 "cells": [
  {
   "cell_type": "markdown",
   "id": "81553b9e-377f-499f-b902-3e2fbb9a6b63",
   "metadata": {},
   "source": [
    "https://github.com/DataTalksClub/stock-markets-analytics-zoomcamp/blob/main/cohorts/2025/homework4.md"
   ]
  },
  {
   "cell_type": "code",
   "execution_count": 1,
   "id": "c043c22a-1a17-4e09-8a36-00f07334f146",
   "metadata": {},
   "outputs": [],
   "source": [
    "import numpy as np\n",
    "import pandas as pd\n",
    "import matplotlib.pyplot as plt\n",
    "import seaborn as sns"
   ]
  },
  {
   "cell_type": "code",
   "execution_count": 2,
   "id": "f1e40602-ad9f-46fe-9c21-4e358aca2837",
   "metadata": {},
   "outputs": [],
   "source": [
    "from sklearn.tree import DecisionTreeClassifier\n",
    "from sklearn.ensemble import RandomForestClassifier"
   ]
  },
  {
   "cell_type": "markdown",
   "id": "8f10b089-5e6d-4113-8000-354318d2328b",
   "metadata": {},
   "source": [
    "# Question 1: Less Features is More"
   ]
  },
  {
   "cell_type": "markdown",
   "id": "76fff1bf-4f42-48df-8cde-a98836c3fed3",
   "metadata": {},
   "source": [
    "### Find the CAGR for the pred9_clf_second_best_rule_92 using the new setup (with fewer dummy variables)."
   ]
  },
  {
   "cell_type": "markdown",
   "id": "37378ad3-181b-4639-87cb-124e41538401",
   "metadata": {},
   "source": [
    "# 1. Read the data"
   ]
  },
  {
   "cell_type": "code",
   "execution_count": 3,
   "id": "51d40a14-ae52-4652-bac4-97c43d6e6bcd",
   "metadata": {},
   "outputs": [],
   "source": [
    "# download data \n",
    "# import gdown\n",
    "# !gdown https://drive.google.com/file/d/1mb0ae2M5AouSDlqcUnIwaHq7avwGNrmB/view?usp=sharing --fuzzy -O /content/"
   ]
  },
  {
   "cell_type": "code",
   "execution_count": 4,
   "id": "0871d7d4-563d-486a-937a-d8ac09717255",
   "metadata": {},
   "outputs": [
    {
     "name": "stdout",
     "output_type": "stream",
     "text": [
      "(230262, 203)\n"
     ]
    },
    {
     "data": {
      "text/html": [
       "<div>\n",
       "<style scoped>\n",
       "    .dataframe tbody tr th:only-of-type {\n",
       "        vertical-align: middle;\n",
       "    }\n",
       "\n",
       "    .dataframe tbody tr th {\n",
       "        vertical-align: top;\n",
       "    }\n",
       "\n",
       "    .dataframe thead th {\n",
       "        text-align: right;\n",
       "    }\n",
       "</style>\n",
       "<table border=\"1\" class=\"dataframe\">\n",
       "  <thead>\n",
       "    <tr style=\"text-align: right;\">\n",
       "      <th></th>\n",
       "      <th>Open</th>\n",
       "      <th>High</th>\n",
       "      <th>Low</th>\n",
       "      <th>Close_x</th>\n",
       "      <th>Volume</th>\n",
       "      <th>Dividends</th>\n",
       "      <th>Stock Splits</th>\n",
       "      <th>Ticker</th>\n",
       "      <th>Year</th>\n",
       "      <th>Month</th>\n",
       "      <th>...</th>\n",
       "      <th>growth_brent_oil_7d</th>\n",
       "      <th>growth_brent_oil_30d</th>\n",
       "      <th>growth_brent_oil_90d</th>\n",
       "      <th>growth_brent_oil_365d</th>\n",
       "      <th>growth_btc_usd_1d</th>\n",
       "      <th>growth_btc_usd_3d</th>\n",
       "      <th>growth_btc_usd_7d</th>\n",
       "      <th>growth_btc_usd_30d</th>\n",
       "      <th>growth_btc_usd_90d</th>\n",
       "      <th>growth_btc_usd_365d</th>\n",
       "    </tr>\n",
       "  </thead>\n",
       "  <tbody>\n",
       "    <tr>\n",
       "      <th>0</th>\n",
       "      <td>0.054277</td>\n",
       "      <td>0.062259</td>\n",
       "      <td>0.054277</td>\n",
       "      <td>0.059598</td>\n",
       "      <td>1.031789e+09</td>\n",
       "      <td>0.0</td>\n",
       "      <td>0.0</td>\n",
       "      <td>MSFT</td>\n",
       "      <td>1986</td>\n",
       "      <td>1986-03-01</td>\n",
       "      <td>...</td>\n",
       "      <td>NaN</td>\n",
       "      <td>NaN</td>\n",
       "      <td>NaN</td>\n",
       "      <td>NaN</td>\n",
       "      <td>NaN</td>\n",
       "      <td>NaN</td>\n",
       "      <td>NaN</td>\n",
       "      <td>NaN</td>\n",
       "      <td>NaN</td>\n",
       "      <td>NaN</td>\n",
       "    </tr>\n",
       "    <tr>\n",
       "      <th>1</th>\n",
       "      <td>0.059598</td>\n",
       "      <td>0.062791</td>\n",
       "      <td>0.059598</td>\n",
       "      <td>0.061726</td>\n",
       "      <td>3.081600e+08</td>\n",
       "      <td>0.0</td>\n",
       "      <td>0.0</td>\n",
       "      <td>MSFT</td>\n",
       "      <td>1986</td>\n",
       "      <td>1986-03-01</td>\n",
       "      <td>...</td>\n",
       "      <td>NaN</td>\n",
       "      <td>NaN</td>\n",
       "      <td>NaN</td>\n",
       "      <td>NaN</td>\n",
       "      <td>NaN</td>\n",
       "      <td>NaN</td>\n",
       "      <td>NaN</td>\n",
       "      <td>NaN</td>\n",
       "      <td>NaN</td>\n",
       "      <td>NaN</td>\n",
       "    </tr>\n",
       "    <tr>\n",
       "      <th>2</th>\n",
       "      <td>0.061726</td>\n",
       "      <td>0.063323</td>\n",
       "      <td>0.061726</td>\n",
       "      <td>0.062791</td>\n",
       "      <td>1.331712e+08</td>\n",
       "      <td>0.0</td>\n",
       "      <td>0.0</td>\n",
       "      <td>MSFT</td>\n",
       "      <td>1986</td>\n",
       "      <td>1986-03-01</td>\n",
       "      <td>...</td>\n",
       "      <td>NaN</td>\n",
       "      <td>NaN</td>\n",
       "      <td>NaN</td>\n",
       "      <td>NaN</td>\n",
       "      <td>NaN</td>\n",
       "      <td>NaN</td>\n",
       "      <td>NaN</td>\n",
       "      <td>NaN</td>\n",
       "      <td>NaN</td>\n",
       "      <td>NaN</td>\n",
       "    </tr>\n",
       "    <tr>\n",
       "      <th>3</th>\n",
       "      <td>0.062791</td>\n",
       "      <td>0.063323</td>\n",
       "      <td>0.060662</td>\n",
       "      <td>0.061194</td>\n",
       "      <td>6.776640e+07</td>\n",
       "      <td>0.0</td>\n",
       "      <td>0.0</td>\n",
       "      <td>MSFT</td>\n",
       "      <td>1986</td>\n",
       "      <td>1986-03-01</td>\n",
       "      <td>...</td>\n",
       "      <td>NaN</td>\n",
       "      <td>NaN</td>\n",
       "      <td>NaN</td>\n",
       "      <td>NaN</td>\n",
       "      <td>NaN</td>\n",
       "      <td>NaN</td>\n",
       "      <td>NaN</td>\n",
       "      <td>NaN</td>\n",
       "      <td>NaN</td>\n",
       "      <td>NaN</td>\n",
       "    </tr>\n",
       "    <tr>\n",
       "      <th>4</th>\n",
       "      <td>0.061194</td>\n",
       "      <td>0.061726</td>\n",
       "      <td>0.059598</td>\n",
       "      <td>0.060130</td>\n",
       "      <td>4.789440e+07</td>\n",
       "      <td>0.0</td>\n",
       "      <td>0.0</td>\n",
       "      <td>MSFT</td>\n",
       "      <td>1986</td>\n",
       "      <td>1986-03-01</td>\n",
       "      <td>...</td>\n",
       "      <td>NaN</td>\n",
       "      <td>NaN</td>\n",
       "      <td>NaN</td>\n",
       "      <td>NaN</td>\n",
       "      <td>NaN</td>\n",
       "      <td>NaN</td>\n",
       "      <td>NaN</td>\n",
       "      <td>NaN</td>\n",
       "      <td>NaN</td>\n",
       "      <td>NaN</td>\n",
       "    </tr>\n",
       "  </tbody>\n",
       "</table>\n",
       "<p>5 rows × 203 columns</p>\n",
       "</div>"
      ],
      "text/plain": [
       "       Open      High       Low   Close_x        Volume  Dividends  \\\n",
       "0  0.054277  0.062259  0.054277  0.059598  1.031789e+09        0.0   \n",
       "1  0.059598  0.062791  0.059598  0.061726  3.081600e+08        0.0   \n",
       "2  0.061726  0.063323  0.061726  0.062791  1.331712e+08        0.0   \n",
       "3  0.062791  0.063323  0.060662  0.061194  6.776640e+07        0.0   \n",
       "4  0.061194  0.061726  0.059598  0.060130  4.789440e+07        0.0   \n",
       "\n",
       "   Stock Splits Ticker  Year      Month  ...  growth_brent_oil_7d  \\\n",
       "0           0.0   MSFT  1986 1986-03-01  ...                  NaN   \n",
       "1           0.0   MSFT  1986 1986-03-01  ...                  NaN   \n",
       "2           0.0   MSFT  1986 1986-03-01  ...                  NaN   \n",
       "3           0.0   MSFT  1986 1986-03-01  ...                  NaN   \n",
       "4           0.0   MSFT  1986 1986-03-01  ...                  NaN   \n",
       "\n",
       "  growth_brent_oil_30d  growth_brent_oil_90d  growth_brent_oil_365d  \\\n",
       "0                  NaN                   NaN                    NaN   \n",
       "1                  NaN                   NaN                    NaN   \n",
       "2                  NaN                   NaN                    NaN   \n",
       "3                  NaN                   NaN                    NaN   \n",
       "4                  NaN                   NaN                    NaN   \n",
       "\n",
       "   growth_btc_usd_1d  growth_btc_usd_3d  growth_btc_usd_7d  \\\n",
       "0                NaN                NaN                NaN   \n",
       "1                NaN                NaN                NaN   \n",
       "2                NaN                NaN                NaN   \n",
       "3                NaN                NaN                NaN   \n",
       "4                NaN                NaN                NaN   \n",
       "\n",
       "   growth_btc_usd_30d  growth_btc_usd_90d  growth_btc_usd_365d  \n",
       "0                 NaN                 NaN                  NaN  \n",
       "1                 NaN                 NaN                  NaN  \n",
       "2                 NaN                 NaN                  NaN  \n",
       "3                 NaN                 NaN                  NaN  \n",
       "4                 NaN                 NaN                  NaN  \n",
       "\n",
       "[5 rows x 203 columns]"
      ]
     },
     "execution_count": 4,
     "metadata": {},
     "output_type": "execute_result"
    }
   ],
   "source": [
    "df = pd.read_parquet('../data/stocks_df_combined_2025_06_13.parquet.brotli')\n",
    "print(df.shape)\n",
    "df.head()"
   ]
  },
  {
   "cell_type": "code",
   "execution_count": 5,
   "id": "6f561976-c478-472e-a387-31bfa39c0507",
   "metadata": {},
   "outputs": [
    {
     "data": {
      "text/plain": [
       "Index(['Open', 'High', 'Low', 'Close_x', 'Volume', 'Dividends', 'Stock Splits',\n",
       "       'Ticker', 'Year', 'Month',\n",
       "       ...\n",
       "       'growth_brent_oil_7d', 'growth_brent_oil_30d', 'growth_brent_oil_90d',\n",
       "       'growth_brent_oil_365d', 'growth_btc_usd_1d', 'growth_btc_usd_3d',\n",
       "       'growth_btc_usd_7d', 'growth_btc_usd_30d', 'growth_btc_usd_90d',\n",
       "       'growth_btc_usd_365d'],\n",
       "      dtype='object', length=203)"
      ]
     },
     "execution_count": 5,
     "metadata": {},
     "output_type": "execute_result"
    }
   ],
   "source": [
    "df.columns"
   ]
  },
  {
   "cell_type": "code",
   "execution_count": 6,
   "id": "a9c0b059-00a4-4b77-a15a-8068d4614589",
   "metadata": {},
   "outputs": [
    {
     "data": {
      "text/plain": [
       "['growth_1d', 'growth_3d', 'growth_7d', 'growth_30d', 'growth_90d']"
      ]
     },
     "execution_count": 6,
     "metadata": {},
     "output_type": "execute_result"
    }
   ],
   "source": [
    "mask = (df.columns.str.startswith('growth_')) & (df.columns.str.find('future') < 0)\n",
    "GROWTH = df.columns[mask].to_list()\n",
    "GROWTH[:5]"
   ]
  },
  {
   "cell_type": "code",
   "execution_count": 7,
   "id": "ab7e407e-885b-4f4d-89d2-856b010683aa",
   "metadata": {},
   "outputs": [],
   "source": [
    "OHLCV = ['Open','High','Low','Close_x','Volume']\n",
    "CATEGORICAL = ['Month', 'Weekday', 'Ticker', 'ticker_type']"
   ]
  },
  {
   "cell_type": "code",
   "execution_count": 8,
   "id": "fd6165cb-6501-4234-85a0-628d2c4bb108",
   "metadata": {},
   "outputs": [
    {
     "data": {
      "text/plain": [
       "['growth_future_30d', 'is_positive_growth_30d_future']"
      ]
     },
     "execution_count": 8,
     "metadata": {},
     "output_type": "execute_result"
    }
   ],
   "source": [
    "TO_PREDICT = df.columns[df.columns.str.find('future') > 0].to_list()\n",
    "TO_PREDICT"
   ]
  },
  {
   "cell_type": "code",
   "execution_count": 9,
   "id": "6cc7e168-3760-47a8-9886-a77f0e4261c5",
   "metadata": {},
   "outputs": [],
   "source": [
    "# we define dummy variables on Dividends and Stock Splits events later, but drop the original abs. values\n",
    "TO_DROP = ['Year','Date','index_x', 'index_y', 'index', 'Quarter','Close_y','Dividends','Stock Splits'] + CATEGORICAL + OHLCV"
   ]
  },
  {
   "cell_type": "code",
   "execution_count": 10,
   "id": "124ebc45-6efc-492c-a0ba-c61594dbf91d",
   "metadata": {},
   "outputs": [],
   "source": [
    "# let's define on more custom numerical features\n",
    "# Add a small constant to avoid log(0)\n",
    "df['ln_volume'] = df['Volume'].apply(lambda x: np.log(x+ 1e-6))"
   ]
  },
  {
   "cell_type": "code",
   "execution_count": 11,
   "id": "b6e0b464-56e3-49c4-94c7-9bd216ea6acd",
   "metadata": {},
   "outputs": [],
   "source": [
    "# define columns on Dividends or Stock Splits\n",
    "df['div_payout'] = (df['Dividends'] > 0).astype(int)\n",
    "df['stock_split'] = (df['Stock Splits'] > 0).astype(int)"
   ]
  },
  {
   "cell_type": "code",
   "execution_count": 12,
   "id": "ed2c8a87-d223-49e8-b549-298a14861a21",
   "metadata": {},
   "outputs": [],
   "source": [
    "# manually defined features\n",
    "CUSTOM_NUMERICAL = ['SMA10', 'SMA20', 'growing_moving_average', 'high_minus_low_relative','volatility', 'ln_volume','div_payout','stock_split']"
   ]
  },
  {
   "cell_type": "code",
   "execution_count": 13,
   "id": "bec9c501-6b97-417a-a4cc-438f0a6a2b5a",
   "metadata": {},
   "outputs": [],
   "source": [
    "# All Supported Ta-lib indicators: https://github.com/TA-Lib/ta-lib-python/blob/master/docs/funcs.md\n",
    "TECHNICAL_INDICATORS = ['adx', 'adxr', 'apo', 'aroon_1','aroon_2', 'aroonosc',\n",
    " 'bop', 'cci', 'cmo','dx', 'macd', 'macdsignal', 'macdhist', 'macd_ext',\n",
    " 'macdsignal_ext', 'macdhist_ext', 'macd_fix', 'macdsignal_fix',\n",
    " 'macdhist_fix', 'mfi', 'minus_di', 'mom', 'plus_di', 'dm', 'ppo',\n",
    " 'roc', 'rocp', 'rocr', 'rocr100', 'rsi', 'slowk', 'slowd', 'fastk',\n",
    " 'fastd', 'fastk_rsi', 'fastd_rsi', 'trix', 'ultosc', 'willr',\n",
    " 'ad', 'adosc', 'obv', 'atr', 'natr', 'ht_dcperiod', 'ht_dcphase',\n",
    " 'ht_phasor_inphase', 'ht_phasor_quadrature', 'ht_sine_sine', 'ht_sine_leadsine',\n",
    " 'ht_trendmod', 'avgprice', 'medprice', 'typprice', 'wclprice']"
   ]
  },
  {
   "cell_type": "code",
   "execution_count": 14,
   "id": "86cfac21-a22a-44f2-a0e2-827164cd4d99",
   "metadata": {},
   "outputs": [
    {
     "name": "stdout",
     "output_type": "stream",
     "text": [
      "Technical patterns count = 61, examples = ['cdl2crows', 'cdl3blackrows', 'cdl3inside', 'cdl3linestrike', 'cdl3outside']\n"
     ]
    }
   ],
   "source": [
    "TECHNICAL_PATTERNS = df.columns[df.columns.str.find('cdl') >= 0].to_list()\n",
    "print(f'Technical patterns count = {len(TECHNICAL_PATTERNS)}, examples = {TECHNICAL_PATTERNS[0:5]}')"
   ]
  },
  {
   "cell_type": "code",
   "execution_count": 15,
   "id": "fa77c3c6-4f75-43ce-940f-8d92a7f98c16",
   "metadata": {},
   "outputs": [],
   "source": [
    "MACRO = ['gdppot_us_yoy', 'gdppot_us_qoq', 'cpi_core_yoy', 'cpi_core_mom', 'FEDFUNDS', 'DGS1', 'DGS5', 'DGS10']"
   ]
  },
  {
   "cell_type": "code",
   "execution_count": 16,
   "id": "f9a3c9cc-ad21-495b-92df-f00948b49d1e",
   "metadata": {},
   "outputs": [],
   "source": [
    "NUMERICAL = GROWTH + TECHNICAL_INDICATORS + TECHNICAL_PATTERNS + CUSTOM_NUMERICAL + MACRO"
   ]
  },
  {
   "cell_type": "code",
   "execution_count": 17,
   "id": "85f3555f-e2b4-4153-aff5-360cab139b0a",
   "metadata": {},
   "outputs": [
    {
     "data": {
      "text/plain": [
       "[]"
      ]
     },
     "execution_count": 17,
     "metadata": {},
     "output_type": "execute_result"
    }
   ],
   "source": [
    "# CHECK: NO OTHER INDICATORS LEFT\n",
    "OTHER = [k for k in df.keys() if k not in OHLCV + CATEGORICAL + NUMERICAL + TO_DROP + TO_PREDICT]\n",
    "OTHER"
   ]
  },
  {
   "cell_type": "code",
   "execution_count": 18,
   "id": "d740f141-1704-456a-bc11-199e52e8b4a2",
   "metadata": {},
   "outputs": [
    {
     "data": {
      "text/plain": [
       "33"
      ]
     },
     "execution_count": 18,
     "metadata": {},
     "output_type": "execute_result"
    }
   ],
   "source": [
    "df['Ticker'].nunique()"
   ]
  },
  {
   "cell_type": "code",
   "execution_count": 19,
   "id": "e46f45f2-b118-45a2-8b53-d364f6a57a00",
   "metadata": {},
   "outputs": [
    {
     "name": "stdout",
     "output_type": "stream",
     "text": [
      "<class 'pandas.core.frame.DataFrame'>\n",
      "Index: 191795 entries, 3490 to 5700\n",
      "Columns: 206 entries, Open to stock_split\n",
      "dtypes: datetime64[ns](3), float64(130), int32(64), int64(7), object(2)\n",
      "memory usage: 256.1+ MB\n"
     ]
    }
   ],
   "source": [
    "# truncated df_full with 25 years of data (and defined growth variables)\n",
    "df = df[df['Date'] >='2000-01-01'].copy()\n",
    "df.info()"
   ]
  },
  {
   "cell_type": "code",
   "execution_count": 20,
   "id": "cf10bc12-5e67-4a2f-a1fe-74e7d5148c8b",
   "metadata": {},
   "outputs": [
    {
     "data": {
      "text/html": [
       "<div>\n",
       "<style scoped>\n",
       "    .dataframe tbody tr th:only-of-type {\n",
       "        vertical-align: middle;\n",
       "    }\n",
       "\n",
       "    .dataframe tbody tr th {\n",
       "        vertical-align: top;\n",
       "    }\n",
       "\n",
       "    .dataframe thead th {\n",
       "        text-align: right;\n",
       "    }\n",
       "</style>\n",
       "<table border=\"1\" class=\"dataframe\">\n",
       "  <thead>\n",
       "    <tr style=\"text-align: right;\">\n",
       "      <th></th>\n",
       "      <th>min</th>\n",
       "      <th>max</th>\n",
       "      <th>count</th>\n",
       "    </tr>\n",
       "    <tr>\n",
       "      <th>Ticker</th>\n",
       "      <th></th>\n",
       "      <th></th>\n",
       "      <th></th>\n",
       "    </tr>\n",
       "  </thead>\n",
       "  <tbody>\n",
       "    <tr>\n",
       "      <th>AAPL</th>\n",
       "      <td>2000-01-03</td>\n",
       "      <td>2025-06-13</td>\n",
       "      <td>6401</td>\n",
       "    </tr>\n",
       "    <tr>\n",
       "      <th>ACN</th>\n",
       "      <td>2001-07-19</td>\n",
       "      <td>2025-06-13</td>\n",
       "      <td>6012</td>\n",
       "    </tr>\n",
       "    <tr>\n",
       "      <th>AMZN</th>\n",
       "      <td>2000-01-03</td>\n",
       "      <td>2025-06-13</td>\n",
       "      <td>6401</td>\n",
       "    </tr>\n",
       "    <tr>\n",
       "      <th>ASML</th>\n",
       "      <td>2000-01-03</td>\n",
       "      <td>2025-06-13</td>\n",
       "      <td>6401</td>\n",
       "    </tr>\n",
       "    <tr>\n",
       "      <th>AVGO</th>\n",
       "      <td>2009-08-06</td>\n",
       "      <td>2025-06-13</td>\n",
       "      <td>3989</td>\n",
       "    </tr>\n",
       "  </tbody>\n",
       "</table>\n",
       "</div>"
      ],
      "text/plain": [
       "              min        max  count\n",
       "Ticker                             \n",
       "AAPL   2000-01-03 2025-06-13   6401\n",
       "ACN    2001-07-19 2025-06-13   6012\n",
       "AMZN   2000-01-03 2025-06-13   6401\n",
       "ASML   2000-01-03 2025-06-13   6401\n",
       "AVGO   2009-08-06 2025-06-13   3989"
      ]
     },
     "execution_count": 20,
     "metadata": {},
     "output_type": "execute_result"
    }
   ],
   "source": [
    "# tickers, min-max date, count of daily observations\n",
    "df.groupby(['Ticker'])['Date'].agg(['min','max','count']).head()"
   ]
  },
  {
   "cell_type": "markdown",
   "id": "a7c0baff-53d4-4c60-8615-b5c37b2cd1c2",
   "metadata": {},
   "source": [
    "# 2. Create features"
   ]
  },
  {
   "cell_type": "code",
   "execution_count": 21,
   "id": "2baa3174-9cdc-4790-ae26-84c6297dce6e",
   "metadata": {},
   "outputs": [
    {
     "data": {
      "text/plain": [
       "['Month', 'Weekday', 'Ticker', 'ticker_type']"
      ]
     },
     "execution_count": 21,
     "metadata": {},
     "output_type": "execute_result"
    }
   ],
   "source": [
    "CATEGORICAL"
   ]
  },
  {
   "cell_type": "code",
   "execution_count": 22,
   "id": "0ff8b061-eb17-496a-ab12-027b8d3f44d0",
   "metadata": {},
   "outputs": [
    {
     "data": {
      "text/plain": [
       "Month                  object\n",
       "Weekday        string[python]\n",
       "Ticker                 object\n",
       "ticker_type            object\n",
       "dtype: object"
      ]
     },
     "execution_count": 22,
     "metadata": {},
     "output_type": "execute_result"
    }
   ],
   "source": [
    "df['Month'] = df['Month'].dt.strftime('%B')\n",
    "df['Weekday'] = df['Weekday'].astype('string')\n",
    "df[CATEGORICAL].dtypes"
   ]
  },
  {
   "cell_type": "code",
   "execution_count": 23,
   "id": "c0efadc7-cd23-4b46-8450-bf9bf9352916",
   "metadata": {},
   "outputs": [],
   "source": [
    "# define week of month\n",
    "df['wom'] = df['Date'].apply(lambda d: (d.day-1)//7 + 1).astype(str)"
   ]
  },
  {
   "cell_type": "code",
   "execution_count": 24,
   "id": "146c5ccc-4c6b-44fc-bb6b-f409393e0243",
   "metadata": {},
   "outputs": [
    {
     "data": {
      "text/plain": [
       "wom\n",
       "2    45083\n",
       "3    44006\n",
       "4    43753\n",
       "1    43557\n",
       "5    15396\n",
       "Name: count, dtype: int64"
      ]
     },
     "execution_count": 24,
     "metadata": {},
     "output_type": "execute_result"
    }
   ],
   "source": [
    "# check values for week-of-month (should be between 1 and 5)\n",
    "df['wom'].value_counts()"
   ]
  },
  {
   "cell_type": "code",
   "execution_count": 25,
   "id": "f2879e06-e9f6-4e8a-bb40-194c00c45f8e",
   "metadata": {},
   "outputs": [
    {
     "data": {
      "text/plain": [
       "3490    January_w1\n",
       "3491    January_w1\n",
       "3492    January_w1\n",
       "3493    January_w1\n",
       "3494    January_w1\n",
       "Name: month_wom, dtype: object"
      ]
     },
     "execution_count": 25,
     "metadata": {},
     "output_type": "execute_result"
    }
   ],
   "source": [
    "df['month_wom'] = df['Month'] + '_w' + df['wom']\n",
    "df['month_wom'].head()"
   ]
  },
  {
   "cell_type": "code",
   "execution_count": 26,
   "id": "77c4a410-11b9-45dd-aa90-542a3a0a4e41",
   "metadata": {},
   "outputs": [],
   "source": [
    "# del wom temp variable\n",
    "del df['wom']"
   ]
  },
  {
   "cell_type": "code",
   "execution_count": 27,
   "id": "822f28a9-25af-4919-be7c-41561f0b362e",
   "metadata": {},
   "outputs": [
    {
     "data": {
      "text/plain": [
       "['Month', 'Weekday', 'Ticker', 'ticker_type', 'month_wom']"
      ]
     },
     "execution_count": 27,
     "metadata": {},
     "output_type": "execute_result"
    }
   ],
   "source": [
    "CATEGORICAL.append('month_wom')\n",
    "CATEGORICAL"
   ]
  },
  {
   "cell_type": "markdown",
   "id": "a27c13bb-d28e-4224-85b6-faae1dfd4bc7",
   "metadata": {},
   "source": [
    "### Redefine the \"CATEGORICAL\" set. Remove ticker and month_wom from the CATEGORICAL"
   ]
  },
  {
   "cell_type": "code",
   "execution_count": 28,
   "id": "dafe4a0a-d889-40c8-aa78-5e008459ac54",
   "metadata": {},
   "outputs": [],
   "source": [
    "def get_df_dummy(df, cat_columns):\n",
    "    # Generate dummy variables (no need for bool, let's have int32 instead)\n",
    "    df_dummy = pd.get_dummies(df[cat_columns], dtype='int32')\n",
    "    return pd.concat([df, df_dummy], axis=1), df_dummy.columns.to_list()  "
   ]
  },
  {
   "cell_type": "code",
   "execution_count": 29,
   "id": "8e0152ec-baf0-48bb-923d-ff11aea47f00",
   "metadata": {},
   "outputs": [
    {
     "data": {
      "text/plain": [
       "['Month', 'Weekday', 'ticker_type']"
      ]
     },
     "execution_count": 29,
     "metadata": {},
     "output_type": "execute_result"
    }
   ],
   "source": [
    "CATEGORICAL_SHORT = CATEGORICAL.copy()\n",
    "CATEGORICAL_SHORT.remove('Ticker')\n",
    "CATEGORICAL_SHORT.remove('month_wom')\n",
    "CATEGORICAL_SHORT"
   ]
  },
  {
   "cell_type": "code",
   "execution_count": 30,
   "id": "bbaf012c-f9d4-4d80-958b-bcac3bd90cd9",
   "metadata": {},
   "outputs": [
    {
     "name": "stdout",
     "output_type": "stream",
     "text": [
      "(191795, 229)\n"
     ]
    },
    {
     "data": {
      "text/html": [
       "<div>\n",
       "<style scoped>\n",
       "    .dataframe tbody tr th:only-of-type {\n",
       "        vertical-align: middle;\n",
       "    }\n",
       "\n",
       "    .dataframe tbody tr th {\n",
       "        vertical-align: top;\n",
       "    }\n",
       "\n",
       "    .dataframe thead th {\n",
       "        text-align: right;\n",
       "    }\n",
       "</style>\n",
       "<table border=\"1\" class=\"dataframe\">\n",
       "  <thead>\n",
       "    <tr style=\"text-align: right;\">\n",
       "      <th></th>\n",
       "      <th>Open</th>\n",
       "      <th>High</th>\n",
       "      <th>Low</th>\n",
       "      <th>Close_x</th>\n",
       "      <th>Volume</th>\n",
       "      <th>Dividends</th>\n",
       "      <th>Stock Splits</th>\n",
       "      <th>Ticker</th>\n",
       "      <th>Year</th>\n",
       "      <th>Month</th>\n",
       "      <th>...</th>\n",
       "      <th>Weekday_0</th>\n",
       "      <th>Weekday_1</th>\n",
       "      <th>Weekday_2</th>\n",
       "      <th>Weekday_3</th>\n",
       "      <th>Weekday_4</th>\n",
       "      <th>Weekday_5</th>\n",
       "      <th>Weekday_6</th>\n",
       "      <th>ticker_type_EU</th>\n",
       "      <th>ticker_type_INDIA</th>\n",
       "      <th>ticker_type_US</th>\n",
       "    </tr>\n",
       "  </thead>\n",
       "  <tbody>\n",
       "    <tr>\n",
       "      <th>3490</th>\n",
       "      <td>35.975752</td>\n",
       "      <td>36.358881</td>\n",
       "      <td>34.328300</td>\n",
       "      <td>35.726719</td>\n",
       "      <td>53228400.0</td>\n",
       "      <td>0.0</td>\n",
       "      <td>0.0</td>\n",
       "      <td>MSFT</td>\n",
       "      <td>2000</td>\n",
       "      <td>January</td>\n",
       "      <td>...</td>\n",
       "      <td>1</td>\n",
       "      <td>0</td>\n",
       "      <td>0</td>\n",
       "      <td>0</td>\n",
       "      <td>0</td>\n",
       "      <td>0</td>\n",
       "      <td>0</td>\n",
       "      <td>0</td>\n",
       "      <td>0</td>\n",
       "      <td>1</td>\n",
       "    </tr>\n",
       "    <tr>\n",
       "      <th>3491</th>\n",
       "      <td>34.807221</td>\n",
       "      <td>35.899137</td>\n",
       "      <td>34.404936</td>\n",
       "      <td>34.519875</td>\n",
       "      <td>54119000.0</td>\n",
       "      <td>0.0</td>\n",
       "      <td>0.0</td>\n",
       "      <td>MSFT</td>\n",
       "      <td>2000</td>\n",
       "      <td>January</td>\n",
       "      <td>...</td>\n",
       "      <td>0</td>\n",
       "      <td>1</td>\n",
       "      <td>0</td>\n",
       "      <td>0</td>\n",
       "      <td>0</td>\n",
       "      <td>0</td>\n",
       "      <td>0</td>\n",
       "      <td>0</td>\n",
       "      <td>0</td>\n",
       "      <td>1</td>\n",
       "    </tr>\n",
       "    <tr>\n",
       "      <th>3492</th>\n",
       "      <td>34.060124</td>\n",
       "      <td>35.669264</td>\n",
       "      <td>33.523744</td>\n",
       "      <td>34.883850</td>\n",
       "      <td>64059600.0</td>\n",
       "      <td>0.0</td>\n",
       "      <td>0.0</td>\n",
       "      <td>MSFT</td>\n",
       "      <td>2000</td>\n",
       "      <td>January</td>\n",
       "      <td>...</td>\n",
       "      <td>0</td>\n",
       "      <td>0</td>\n",
       "      <td>1</td>\n",
       "      <td>0</td>\n",
       "      <td>0</td>\n",
       "      <td>0</td>\n",
       "      <td>0</td>\n",
       "      <td>0</td>\n",
       "      <td>0</td>\n",
       "      <td>1</td>\n",
       "    </tr>\n",
       "    <tr>\n",
       "      <th>3493</th>\n",
       "      <td>34.385780</td>\n",
       "      <td>34.903004</td>\n",
       "      <td>33.217238</td>\n",
       "      <td>33.715305</td>\n",
       "      <td>54976600.0</td>\n",
       "      <td>0.0</td>\n",
       "      <td>0.0</td>\n",
       "      <td>MSFT</td>\n",
       "      <td>2000</td>\n",
       "      <td>January</td>\n",
       "      <td>...</td>\n",
       "      <td>0</td>\n",
       "      <td>0</td>\n",
       "      <td>0</td>\n",
       "      <td>1</td>\n",
       "      <td>0</td>\n",
       "      <td>0</td>\n",
       "      <td>0</td>\n",
       "      <td>0</td>\n",
       "      <td>0</td>\n",
       "      <td>1</td>\n",
       "    </tr>\n",
       "    <tr>\n",
       "      <th>3494</th>\n",
       "      <td>33.293845</td>\n",
       "      <td>34.404917</td>\n",
       "      <td>32.891561</td>\n",
       "      <td>34.155884</td>\n",
       "      <td>62013600.0</td>\n",
       "      <td>0.0</td>\n",
       "      <td>0.0</td>\n",
       "      <td>MSFT</td>\n",
       "      <td>2000</td>\n",
       "      <td>January</td>\n",
       "      <td>...</td>\n",
       "      <td>0</td>\n",
       "      <td>0</td>\n",
       "      <td>0</td>\n",
       "      <td>0</td>\n",
       "      <td>1</td>\n",
       "      <td>0</td>\n",
       "      <td>0</td>\n",
       "      <td>0</td>\n",
       "      <td>0</td>\n",
       "      <td>1</td>\n",
       "    </tr>\n",
       "  </tbody>\n",
       "</table>\n",
       "<p>5 rows × 229 columns</p>\n",
       "</div>"
      ],
      "text/plain": [
       "           Open       High        Low    Close_x      Volume  Dividends  \\\n",
       "3490  35.975752  36.358881  34.328300  35.726719  53228400.0        0.0   \n",
       "3491  34.807221  35.899137  34.404936  34.519875  54119000.0        0.0   \n",
       "3492  34.060124  35.669264  33.523744  34.883850  64059600.0        0.0   \n",
       "3493  34.385780  34.903004  33.217238  33.715305  54976600.0        0.0   \n",
       "3494  33.293845  34.404917  32.891561  34.155884  62013600.0        0.0   \n",
       "\n",
       "      Stock Splits Ticker  Year    Month  ... Weekday_0 Weekday_1  Weekday_2  \\\n",
       "3490           0.0   MSFT  2000  January  ...         1         0          0   \n",
       "3491           0.0   MSFT  2000  January  ...         0         1          0   \n",
       "3492           0.0   MSFT  2000  January  ...         0         0          1   \n",
       "3493           0.0   MSFT  2000  January  ...         0         0          0   \n",
       "3494           0.0   MSFT  2000  January  ...         0         0          0   \n",
       "\n",
       "      Weekday_3  Weekday_4  Weekday_5  Weekday_6  ticker_type_EU  \\\n",
       "3490          0          0          0          0               0   \n",
       "3491          0          0          0          0               0   \n",
       "3492          0          0          0          0               0   \n",
       "3493          1          0          0          0               0   \n",
       "3494          0          1          0          0               0   \n",
       "\n",
       "      ticker_type_INDIA  ticker_type_US  \n",
       "3490                  0               1  \n",
       "3491                  0               1  \n",
       "3492                  0               1  \n",
       "3493                  0               1  \n",
       "3494                  0               1  \n",
       "\n",
       "[5 rows x 229 columns]"
      ]
     },
     "execution_count": 30,
     "metadata": {},
     "output_type": "execute_result"
    }
   ],
   "source": [
    "df_full, DUMMIES = get_df_dummy(df, CATEGORICAL_SHORT)\n",
    "print(df_full.shape)\n",
    "df_full.head()"
   ]
  },
  {
   "cell_type": "code",
   "execution_count": 31,
   "id": "78be18c2-5feb-4d87-8b11-1a7fbfd0f574",
   "metadata": {},
   "outputs": [
    {
     "name": "stdout",
     "output_type": "stream",
     "text": [
      "<class 'pandas.core.frame.DataFrame'>\n",
      "Index: 191795 entries, 3490 to 5700\n",
      "Columns: 229 entries, Open to ticker_type_US\n",
      "dtypes: datetime64[ns](2), float64(130), int32(85), int64(7), object(4), string(1)\n",
      "memory usage: 274.4+ MB\n"
     ]
    }
   ],
   "source": [
    "df_full.info()"
   ]
  },
  {
   "cell_type": "code",
   "execution_count": 32,
   "id": "e8efc833-733e-4e59-b124-9b1e6e5d1d03",
   "metadata": {},
   "outputs": [
    {
     "name": "stdout",
     "output_type": "stream",
     "text": [
      "<class 'pandas.core.frame.DataFrame'>\n",
      "Index: 191795 entries, 3490 to 5700\n",
      "Columns: 208 entries, growth_1d to ticker_type_US\n",
      "dtypes: float64(121), int32(84), int64(3)\n",
      "memory usage: 244.4 MB\n"
     ]
    }
   ],
   "source": [
    "df_full[NUMERICAL+DUMMIES].info()"
   ]
  },
  {
   "cell_type": "code",
   "execution_count": 33,
   "id": "7efb1801-8f00-43f0-855c-ddd23f95bcdb",
   "metadata": {},
   "outputs": [],
   "source": [
    "# df_with_dummies[NUMERICAL+DUMMIES].info() should show 208 features"
   ]
  },
  {
   "cell_type": "markdown",
   "id": "1e034688-8e0d-483a-b6c6-cda72e0f8914",
   "metadata": {},
   "source": [
    "### Find the CAGR for the pred9_clf_second_best_rule_92 using the new setup"
   ]
  },
  {
   "cell_type": "markdown",
   "id": "dbc06217-c2e6-4b0c-91de-28e579517bcd",
   "metadata": {},
   "source": [
    "Ans: 1.1594"
   ]
  },
  {
   "cell_type": "markdown",
   "id": "a289fb02-eb10-43c6-80f8-219c150761a4",
   "metadata": {},
   "source": [
    "# 3. Split the data"
   ]
  },
  {
   "cell_type": "code",
   "execution_count": 34,
   "id": "4edf7b54-33d4-4e5d-acda-fcb87a2ea4da",
   "metadata": {},
   "outputs": [],
   "source": [
    "def temporal_split(df, min_date, max_date, train_prop=0.7, val_prop=0.15, test_prop=0.15):\n",
    "    \"\"\"\n",
    "    Splits a DataFrame into three buckets based on the temporal order of the 'Date' column.\n",
    "\n",
    "    Args:\n",
    "        df (DataFrame): The DataFrame to split.\n",
    "        min_date (str or Timestamp): Minimum date in the DataFrame.\n",
    "        max_date (str or Timestamp): Maximum date in the DataFrame.\n",
    "        train_prop (float): Proportion of data for training set (default: 0.6).\n",
    "        val_prop (float): Proportion of data for validation set (default: 0.2).\n",
    "        test_prop (float): Proportion of data for test set (default: 0.2).\n",
    "\n",
    "    Returns:\n",
    "        DataFrame: The input DataFrame with a new column 'split' indicating the split for each row.\n",
    "    \"\"\"\n",
    "    # Define the date intervals\n",
    "    train_end = min_date + pd.Timedelta(days=(max_date - min_date).days * train_prop)\n",
    "    val_end = train_end + pd.Timedelta(days=(max_date - min_date).days * val_prop)\n",
    "\n",
    "    # Assign split labels based on date ranges\n",
    "    split_labels = []\n",
    "    for date in df['Date']:\n",
    "        if date <= train_end:\n",
    "            split_labels.append('train')\n",
    "        elif date <= val_end:\n",
    "            split_labels.append('validation')\n",
    "        else:\n",
    "            split_labels.append('test')\n",
    "\n",
    "    # Add 'split' column to the DataFrame\n",
    "    df['split'] = split_labels\n",
    "\n",
    "    return df"
   ]
  },
  {
   "cell_type": "code",
   "execution_count": 35,
   "id": "621621bb-86bf-464a-a957-aee34a62126e",
   "metadata": {},
   "outputs": [],
   "source": [
    "min_date_df = df_full['Date'].min()\n",
    "max_date_df = df_full['Date'].max()\n",
    "\n",
    "df_full = temporal_split(df_full, min_date = min_date_df, max_date = max_date_df)"
   ]
  },
  {
   "cell_type": "code",
   "execution_count": 36,
   "id": "ab0d93a6-78d4-4ebb-a38c-fc3e71c257f0",
   "metadata": {},
   "outputs": [
    {
     "data": {
      "text/plain": [
       "split\n",
       "train         67.639928\n",
       "test          16.375818\n",
       "validation    15.984254\n",
       "Name: proportion, dtype: float64"
      ]
     },
     "execution_count": 36,
     "metadata": {},
     "output_type": "execute_result"
    }
   ],
   "source": [
    "df_full['split'].value_counts(normalize=True)*100"
   ]
  },
  {
   "cell_type": "code",
   "execution_count": 37,
   "id": "1b94c647-8b4a-43f5-bc8a-1f44f48a07e7",
   "metadata": {},
   "outputs": [],
   "source": [
    "# Prepare a dataframe for ML:\n",
    "  # +-inf to NaN, all NaNs to 0s\n",
    "def clean_dataframe_from_inf_and_nan(df:pd.DataFrame):\n",
    "    df.replace([np.inf, -np.inf], np.nan, inplace=True)\n",
    "    df.fillna(0, inplace=True)\n",
    "    return df"
   ]
  },
  {
   "cell_type": "code",
   "execution_count": 38,
   "id": "ae760e98-b351-4127-8c91-6f8b261f3283",
   "metadata": {},
   "outputs": [],
   "source": [
    "def split_data(df, features, target='is_positive_growth_30d_future'):\n",
    "    \n",
    "    train_valid_df = df[df['split'].isin(['train','validation'])]\n",
    "    test_df = df[df['split'].isin(['test'])]\n",
    "    \n",
    "    # ONLY numerical Separate features and target variable for training and testing sets\n",
    "    X_train_valid = train_valid_df[features_list+[to_predict]].copy()\n",
    "    X_test = test_df[features_list+[to_predict]].copy()\n",
    "    \n",
    "    # this to be used for predictions and join to the original dataframe new_df\n",
    "    X_all =  df[features_list+[to_predict]].copy()\n",
    "    \n",
    "    print(f'length: X_train_valid {X_train_valid.shape},  X_test {X_test.shape}, all combined: X_all {X_all.shape}')\n",
    "\n",
    "    # Clean from +-inf and NaNs:\n",
    "    X_train_valid = clean_dataframe_from_inf_and_nan(X_train_valid)\n",
    "    y_train_valid = X_train_valid.pop(to_predict).values\n",
    "    \n",
    "    X_test = clean_dataframe_from_inf_and_nan(X_test)\n",
    "    y_test = X_test.pop(to_predict).values\n",
    "    \n",
    "    X_all = clean_dataframe_from_inf_and_nan(X_all)\n",
    "    y_all =  X_all.pop(to_predict).values\n",
    "\n",
    "    return X_train_valid, y_train_valid, X_test, y_test, X_all, y_all"
   ]
  },
  {
   "cell_type": "code",
   "execution_count": 39,
   "id": "ef6da155-b260-49f3-bab9-71329c03210c",
   "metadata": {},
   "outputs": [
    {
     "name": "stdout",
     "output_type": "stream",
     "text": [
      "length: X_train_valid (160387, 209),  X_test (31408, 209), all combined: X_all (191795, 209)\n"
     ]
    }
   ],
   "source": [
    "# Features to be used in predictions (incl. new dummies)\n",
    "features_list = NUMERICAL+DUMMIES\n",
    "\n",
    "# What we're trying to predict?\n",
    "to_predict = 'is_positive_growth_30d_future'\n",
    "\n",
    "X_train_valid, y_train_valid, X_test, y_test, X_all, y_all = split_data(df_full, features_list, to_predict)"
   ]
  },
  {
   "cell_type": "markdown",
   "id": "cad386ce-d849-4f2c-b7d0-bcb9c788de05",
   "metadata": {},
   "source": [
    "# 4. Decision Tree Classifier"
   ]
  },
  {
   "cell_type": "code",
   "execution_count": 40,
   "id": "431286b0-82be-49d4-86b3-3133a36d0d13",
   "metadata": {},
   "outputs": [
    {
     "name": "stdout",
     "output_type": "stream",
     "text": [
      "CPU times: user 28 s, sys: 0 ns, total: 28 s\n",
      "Wall time: 28 s\n"
     ]
    },
    {
     "data": {
      "text/html": [
       "<style>#sk-container-id-1 {\n",
       "  /* Definition of color scheme common for light and dark mode */\n",
       "  --sklearn-color-text: #000;\n",
       "  --sklearn-color-text-muted: #666;\n",
       "  --sklearn-color-line: gray;\n",
       "  /* Definition of color scheme for unfitted estimators */\n",
       "  --sklearn-color-unfitted-level-0: #fff5e6;\n",
       "  --sklearn-color-unfitted-level-1: #f6e4d2;\n",
       "  --sklearn-color-unfitted-level-2: #ffe0b3;\n",
       "  --sklearn-color-unfitted-level-3: chocolate;\n",
       "  /* Definition of color scheme for fitted estimators */\n",
       "  --sklearn-color-fitted-level-0: #f0f8ff;\n",
       "  --sklearn-color-fitted-level-1: #d4ebff;\n",
       "  --sklearn-color-fitted-level-2: #b3dbfd;\n",
       "  --sklearn-color-fitted-level-3: cornflowerblue;\n",
       "\n",
       "  /* Specific color for light theme */\n",
       "  --sklearn-color-text-on-default-background: var(--sg-text-color, var(--theme-code-foreground, var(--jp-content-font-color1, black)));\n",
       "  --sklearn-color-background: var(--sg-background-color, var(--theme-background, var(--jp-layout-color0, white)));\n",
       "  --sklearn-color-border-box: var(--sg-text-color, var(--theme-code-foreground, var(--jp-content-font-color1, black)));\n",
       "  --sklearn-color-icon: #696969;\n",
       "\n",
       "  @media (prefers-color-scheme: dark) {\n",
       "    /* Redefinition of color scheme for dark theme */\n",
       "    --sklearn-color-text-on-default-background: var(--sg-text-color, var(--theme-code-foreground, var(--jp-content-font-color1, white)));\n",
       "    --sklearn-color-background: var(--sg-background-color, var(--theme-background, var(--jp-layout-color0, #111)));\n",
       "    --sklearn-color-border-box: var(--sg-text-color, var(--theme-code-foreground, var(--jp-content-font-color1, white)));\n",
       "    --sklearn-color-icon: #878787;\n",
       "  }\n",
       "}\n",
       "\n",
       "#sk-container-id-1 {\n",
       "  color: var(--sklearn-color-text);\n",
       "}\n",
       "\n",
       "#sk-container-id-1 pre {\n",
       "  padding: 0;\n",
       "}\n",
       "\n",
       "#sk-container-id-1 input.sk-hidden--visually {\n",
       "  border: 0;\n",
       "  clip: rect(1px 1px 1px 1px);\n",
       "  clip: rect(1px, 1px, 1px, 1px);\n",
       "  height: 1px;\n",
       "  margin: -1px;\n",
       "  overflow: hidden;\n",
       "  padding: 0;\n",
       "  position: absolute;\n",
       "  width: 1px;\n",
       "}\n",
       "\n",
       "#sk-container-id-1 div.sk-dashed-wrapped {\n",
       "  border: 1px dashed var(--sklearn-color-line);\n",
       "  margin: 0 0.4em 0.5em 0.4em;\n",
       "  box-sizing: border-box;\n",
       "  padding-bottom: 0.4em;\n",
       "  background-color: var(--sklearn-color-background);\n",
       "}\n",
       "\n",
       "#sk-container-id-1 div.sk-container {\n",
       "  /* jupyter's `normalize.less` sets `[hidden] { display: none; }`\n",
       "     but bootstrap.min.css set `[hidden] { display: none !important; }`\n",
       "     so we also need the `!important` here to be able to override the\n",
       "     default hidden behavior on the sphinx rendered scikit-learn.org.\n",
       "     See: https://github.com/scikit-learn/scikit-learn/issues/21755 */\n",
       "  display: inline-block !important;\n",
       "  position: relative;\n",
       "}\n",
       "\n",
       "#sk-container-id-1 div.sk-text-repr-fallback {\n",
       "  display: none;\n",
       "}\n",
       "\n",
       "div.sk-parallel-item,\n",
       "div.sk-serial,\n",
       "div.sk-item {\n",
       "  /* draw centered vertical line to link estimators */\n",
       "  background-image: linear-gradient(var(--sklearn-color-text-on-default-background), var(--sklearn-color-text-on-default-background));\n",
       "  background-size: 2px 100%;\n",
       "  background-repeat: no-repeat;\n",
       "  background-position: center center;\n",
       "}\n",
       "\n",
       "/* Parallel-specific style estimator block */\n",
       "\n",
       "#sk-container-id-1 div.sk-parallel-item::after {\n",
       "  content: \"\";\n",
       "  width: 100%;\n",
       "  border-bottom: 2px solid var(--sklearn-color-text-on-default-background);\n",
       "  flex-grow: 1;\n",
       "}\n",
       "\n",
       "#sk-container-id-1 div.sk-parallel {\n",
       "  display: flex;\n",
       "  align-items: stretch;\n",
       "  justify-content: center;\n",
       "  background-color: var(--sklearn-color-background);\n",
       "  position: relative;\n",
       "}\n",
       "\n",
       "#sk-container-id-1 div.sk-parallel-item {\n",
       "  display: flex;\n",
       "  flex-direction: column;\n",
       "}\n",
       "\n",
       "#sk-container-id-1 div.sk-parallel-item:first-child::after {\n",
       "  align-self: flex-end;\n",
       "  width: 50%;\n",
       "}\n",
       "\n",
       "#sk-container-id-1 div.sk-parallel-item:last-child::after {\n",
       "  align-self: flex-start;\n",
       "  width: 50%;\n",
       "}\n",
       "\n",
       "#sk-container-id-1 div.sk-parallel-item:only-child::after {\n",
       "  width: 0;\n",
       "}\n",
       "\n",
       "/* Serial-specific style estimator block */\n",
       "\n",
       "#sk-container-id-1 div.sk-serial {\n",
       "  display: flex;\n",
       "  flex-direction: column;\n",
       "  align-items: center;\n",
       "  background-color: var(--sklearn-color-background);\n",
       "  padding-right: 1em;\n",
       "  padding-left: 1em;\n",
       "}\n",
       "\n",
       "\n",
       "/* Toggleable style: style used for estimator/Pipeline/ColumnTransformer box that is\n",
       "clickable and can be expanded/collapsed.\n",
       "- Pipeline and ColumnTransformer use this feature and define the default style\n",
       "- Estimators will overwrite some part of the style using the `sk-estimator` class\n",
       "*/\n",
       "\n",
       "/* Pipeline and ColumnTransformer style (default) */\n",
       "\n",
       "#sk-container-id-1 div.sk-toggleable {\n",
       "  /* Default theme specific background. It is overwritten whether we have a\n",
       "  specific estimator or a Pipeline/ColumnTransformer */\n",
       "  background-color: var(--sklearn-color-background);\n",
       "}\n",
       "\n",
       "/* Toggleable label */\n",
       "#sk-container-id-1 label.sk-toggleable__label {\n",
       "  cursor: pointer;\n",
       "  display: flex;\n",
       "  width: 100%;\n",
       "  margin-bottom: 0;\n",
       "  padding: 0.5em;\n",
       "  box-sizing: border-box;\n",
       "  text-align: center;\n",
       "  align-items: start;\n",
       "  justify-content: space-between;\n",
       "  gap: 0.5em;\n",
       "}\n",
       "\n",
       "#sk-container-id-1 label.sk-toggleable__label .caption {\n",
       "  font-size: 0.6rem;\n",
       "  font-weight: lighter;\n",
       "  color: var(--sklearn-color-text-muted);\n",
       "}\n",
       "\n",
       "#sk-container-id-1 label.sk-toggleable__label-arrow:before {\n",
       "  /* Arrow on the left of the label */\n",
       "  content: \"▸\";\n",
       "  float: left;\n",
       "  margin-right: 0.25em;\n",
       "  color: var(--sklearn-color-icon);\n",
       "}\n",
       "\n",
       "#sk-container-id-1 label.sk-toggleable__label-arrow:hover:before {\n",
       "  color: var(--sklearn-color-text);\n",
       "}\n",
       "\n",
       "/* Toggleable content - dropdown */\n",
       "\n",
       "#sk-container-id-1 div.sk-toggleable__content {\n",
       "  max-height: 0;\n",
       "  max-width: 0;\n",
       "  overflow: hidden;\n",
       "  text-align: left;\n",
       "  /* unfitted */\n",
       "  background-color: var(--sklearn-color-unfitted-level-0);\n",
       "}\n",
       "\n",
       "#sk-container-id-1 div.sk-toggleable__content.fitted {\n",
       "  /* fitted */\n",
       "  background-color: var(--sklearn-color-fitted-level-0);\n",
       "}\n",
       "\n",
       "#sk-container-id-1 div.sk-toggleable__content pre {\n",
       "  margin: 0.2em;\n",
       "  border-radius: 0.25em;\n",
       "  color: var(--sklearn-color-text);\n",
       "  /* unfitted */\n",
       "  background-color: var(--sklearn-color-unfitted-level-0);\n",
       "}\n",
       "\n",
       "#sk-container-id-1 div.sk-toggleable__content.fitted pre {\n",
       "  /* unfitted */\n",
       "  background-color: var(--sklearn-color-fitted-level-0);\n",
       "}\n",
       "\n",
       "#sk-container-id-1 input.sk-toggleable__control:checked~div.sk-toggleable__content {\n",
       "  /* Expand drop-down */\n",
       "  max-height: 200px;\n",
       "  max-width: 100%;\n",
       "  overflow: auto;\n",
       "}\n",
       "\n",
       "#sk-container-id-1 input.sk-toggleable__control:checked~label.sk-toggleable__label-arrow:before {\n",
       "  content: \"▾\";\n",
       "}\n",
       "\n",
       "/* Pipeline/ColumnTransformer-specific style */\n",
       "\n",
       "#sk-container-id-1 div.sk-label input.sk-toggleable__control:checked~label.sk-toggleable__label {\n",
       "  color: var(--sklearn-color-text);\n",
       "  background-color: var(--sklearn-color-unfitted-level-2);\n",
       "}\n",
       "\n",
       "#sk-container-id-1 div.sk-label.fitted input.sk-toggleable__control:checked~label.sk-toggleable__label {\n",
       "  background-color: var(--sklearn-color-fitted-level-2);\n",
       "}\n",
       "\n",
       "/* Estimator-specific style */\n",
       "\n",
       "/* Colorize estimator box */\n",
       "#sk-container-id-1 div.sk-estimator input.sk-toggleable__control:checked~label.sk-toggleable__label {\n",
       "  /* unfitted */\n",
       "  background-color: var(--sklearn-color-unfitted-level-2);\n",
       "}\n",
       "\n",
       "#sk-container-id-1 div.sk-estimator.fitted input.sk-toggleable__control:checked~label.sk-toggleable__label {\n",
       "  /* fitted */\n",
       "  background-color: var(--sklearn-color-fitted-level-2);\n",
       "}\n",
       "\n",
       "#sk-container-id-1 div.sk-label label.sk-toggleable__label,\n",
       "#sk-container-id-1 div.sk-label label {\n",
       "  /* The background is the default theme color */\n",
       "  color: var(--sklearn-color-text-on-default-background);\n",
       "}\n",
       "\n",
       "/* On hover, darken the color of the background */\n",
       "#sk-container-id-1 div.sk-label:hover label.sk-toggleable__label {\n",
       "  color: var(--sklearn-color-text);\n",
       "  background-color: var(--sklearn-color-unfitted-level-2);\n",
       "}\n",
       "\n",
       "/* Label box, darken color on hover, fitted */\n",
       "#sk-container-id-1 div.sk-label.fitted:hover label.sk-toggleable__label.fitted {\n",
       "  color: var(--sklearn-color-text);\n",
       "  background-color: var(--sklearn-color-fitted-level-2);\n",
       "}\n",
       "\n",
       "/* Estimator label */\n",
       "\n",
       "#sk-container-id-1 div.sk-label label {\n",
       "  font-family: monospace;\n",
       "  font-weight: bold;\n",
       "  display: inline-block;\n",
       "  line-height: 1.2em;\n",
       "}\n",
       "\n",
       "#sk-container-id-1 div.sk-label-container {\n",
       "  text-align: center;\n",
       "}\n",
       "\n",
       "/* Estimator-specific */\n",
       "#sk-container-id-1 div.sk-estimator {\n",
       "  font-family: monospace;\n",
       "  border: 1px dotted var(--sklearn-color-border-box);\n",
       "  border-radius: 0.25em;\n",
       "  box-sizing: border-box;\n",
       "  margin-bottom: 0.5em;\n",
       "  /* unfitted */\n",
       "  background-color: var(--sklearn-color-unfitted-level-0);\n",
       "}\n",
       "\n",
       "#sk-container-id-1 div.sk-estimator.fitted {\n",
       "  /* fitted */\n",
       "  background-color: var(--sklearn-color-fitted-level-0);\n",
       "}\n",
       "\n",
       "/* on hover */\n",
       "#sk-container-id-1 div.sk-estimator:hover {\n",
       "  /* unfitted */\n",
       "  background-color: var(--sklearn-color-unfitted-level-2);\n",
       "}\n",
       "\n",
       "#sk-container-id-1 div.sk-estimator.fitted:hover {\n",
       "  /* fitted */\n",
       "  background-color: var(--sklearn-color-fitted-level-2);\n",
       "}\n",
       "\n",
       "/* Specification for estimator info (e.g. \"i\" and \"?\") */\n",
       "\n",
       "/* Common style for \"i\" and \"?\" */\n",
       "\n",
       ".sk-estimator-doc-link,\n",
       "a:link.sk-estimator-doc-link,\n",
       "a:visited.sk-estimator-doc-link {\n",
       "  float: right;\n",
       "  font-size: smaller;\n",
       "  line-height: 1em;\n",
       "  font-family: monospace;\n",
       "  background-color: var(--sklearn-color-background);\n",
       "  border-radius: 1em;\n",
       "  height: 1em;\n",
       "  width: 1em;\n",
       "  text-decoration: none !important;\n",
       "  margin-left: 0.5em;\n",
       "  text-align: center;\n",
       "  /* unfitted */\n",
       "  border: var(--sklearn-color-unfitted-level-1) 1pt solid;\n",
       "  color: var(--sklearn-color-unfitted-level-1);\n",
       "}\n",
       "\n",
       ".sk-estimator-doc-link.fitted,\n",
       "a:link.sk-estimator-doc-link.fitted,\n",
       "a:visited.sk-estimator-doc-link.fitted {\n",
       "  /* fitted */\n",
       "  border: var(--sklearn-color-fitted-level-1) 1pt solid;\n",
       "  color: var(--sklearn-color-fitted-level-1);\n",
       "}\n",
       "\n",
       "/* On hover */\n",
       "div.sk-estimator:hover .sk-estimator-doc-link:hover,\n",
       ".sk-estimator-doc-link:hover,\n",
       "div.sk-label-container:hover .sk-estimator-doc-link:hover,\n",
       ".sk-estimator-doc-link:hover {\n",
       "  /* unfitted */\n",
       "  background-color: var(--sklearn-color-unfitted-level-3);\n",
       "  color: var(--sklearn-color-background);\n",
       "  text-decoration: none;\n",
       "}\n",
       "\n",
       "div.sk-estimator.fitted:hover .sk-estimator-doc-link.fitted:hover,\n",
       ".sk-estimator-doc-link.fitted:hover,\n",
       "div.sk-label-container:hover .sk-estimator-doc-link.fitted:hover,\n",
       ".sk-estimator-doc-link.fitted:hover {\n",
       "  /* fitted */\n",
       "  background-color: var(--sklearn-color-fitted-level-3);\n",
       "  color: var(--sklearn-color-background);\n",
       "  text-decoration: none;\n",
       "}\n",
       "\n",
       "/* Span, style for the box shown on hovering the info icon */\n",
       ".sk-estimator-doc-link span {\n",
       "  display: none;\n",
       "  z-index: 9999;\n",
       "  position: relative;\n",
       "  font-weight: normal;\n",
       "  right: .2ex;\n",
       "  padding: .5ex;\n",
       "  margin: .5ex;\n",
       "  width: min-content;\n",
       "  min-width: 20ex;\n",
       "  max-width: 50ex;\n",
       "  color: var(--sklearn-color-text);\n",
       "  box-shadow: 2pt 2pt 4pt #999;\n",
       "  /* unfitted */\n",
       "  background: var(--sklearn-color-unfitted-level-0);\n",
       "  border: .5pt solid var(--sklearn-color-unfitted-level-3);\n",
       "}\n",
       "\n",
       ".sk-estimator-doc-link.fitted span {\n",
       "  /* fitted */\n",
       "  background: var(--sklearn-color-fitted-level-0);\n",
       "  border: var(--sklearn-color-fitted-level-3);\n",
       "}\n",
       "\n",
       ".sk-estimator-doc-link:hover span {\n",
       "  display: block;\n",
       "}\n",
       "\n",
       "/* \"?\"-specific style due to the `<a>` HTML tag */\n",
       "\n",
       "#sk-container-id-1 a.estimator_doc_link {\n",
       "  float: right;\n",
       "  font-size: 1rem;\n",
       "  line-height: 1em;\n",
       "  font-family: monospace;\n",
       "  background-color: var(--sklearn-color-background);\n",
       "  border-radius: 1rem;\n",
       "  height: 1rem;\n",
       "  width: 1rem;\n",
       "  text-decoration: none;\n",
       "  /* unfitted */\n",
       "  color: var(--sklearn-color-unfitted-level-1);\n",
       "  border: var(--sklearn-color-unfitted-level-1) 1pt solid;\n",
       "}\n",
       "\n",
       "#sk-container-id-1 a.estimator_doc_link.fitted {\n",
       "  /* fitted */\n",
       "  border: var(--sklearn-color-fitted-level-1) 1pt solid;\n",
       "  color: var(--sklearn-color-fitted-level-1);\n",
       "}\n",
       "\n",
       "/* On hover */\n",
       "#sk-container-id-1 a.estimator_doc_link:hover {\n",
       "  /* unfitted */\n",
       "  background-color: var(--sklearn-color-unfitted-level-3);\n",
       "  color: var(--sklearn-color-background);\n",
       "  text-decoration: none;\n",
       "}\n",
       "\n",
       "#sk-container-id-1 a.estimator_doc_link.fitted:hover {\n",
       "  /* fitted */\n",
       "  background-color: var(--sklearn-color-fitted-level-3);\n",
       "}\n",
       "</style><div id=\"sk-container-id-1\" class=\"sk-top-container\"><div class=\"sk-text-repr-fallback\"><pre>DecisionTreeClassifier(max_depth=14, random_state=42)</pre><b>In a Jupyter environment, please rerun this cell to show the HTML representation or trust the notebook. <br />On GitHub, the HTML representation is unable to render, please try loading this page with nbviewer.org.</b></div><div class=\"sk-container\" hidden><div class=\"sk-item\"><div class=\"sk-estimator fitted sk-toggleable\"><input class=\"sk-toggleable__control sk-hidden--visually\" id=\"sk-estimator-id-1\" type=\"checkbox\" checked><label for=\"sk-estimator-id-1\" class=\"sk-toggleable__label fitted sk-toggleable__label-arrow\"><div><div>DecisionTreeClassifier</div></div><div><a class=\"sk-estimator-doc-link fitted\" rel=\"noreferrer\" target=\"_blank\" href=\"https://scikit-learn.org/1.6/modules/generated/sklearn.tree.DecisionTreeClassifier.html\">?<span>Documentation for DecisionTreeClassifier</span></a><span class=\"sk-estimator-doc-link fitted\">i<span>Fitted</span></span></div></label><div class=\"sk-toggleable__content fitted\"><pre>DecisionTreeClassifier(max_depth=14, random_state=42)</pre></div> </div></div></div></div>"
      ],
      "text/plain": [
       "DecisionTreeClassifier(max_depth=14, random_state=42)"
      ]
     },
     "execution_count": 40,
     "metadata": {},
     "output_type": "execute_result"
    }
   ],
   "source": [
    "%%time\n",
    "best_depth = 14\n",
    "model_dt = DecisionTreeClassifier(max_depth=best_depth, random_state=42)\n",
    "model_dt.fit(X_train_valid, y_train_valid)"
   ]
  },
  {
   "cell_type": "code",
   "execution_count": 41,
   "id": "4072c916-9c3d-45a7-a3c1-66a9dcbcfe20",
   "metadata": {},
   "outputs": [],
   "source": [
    "df_full['proba_dt'] = model_dt.predict_proba(X_all)[:,1]\n",
    "df_full['pred_dt'] = model_dt.predict(X_all)"
   ]
  },
  {
   "cell_type": "code",
   "execution_count": 42,
   "id": "e09f3f36-ae97-4314-bf0a-2c576dd14592",
   "metadata": {},
   "outputs": [
    {
     "name": "stdout",
     "output_type": "stream",
     "text": [
      "Number of nodes: 4875\n",
      "Number of leaves: 2438\n"
     ]
    }
   ],
   "source": [
    "n_nodes = model_dt.tree_.node_count\n",
    "n_leaves = model_dt.get_n_leaves()\n",
    "\n",
    "print(f\"Number of nodes: {n_nodes}\")\n",
    "print(f\"Number of leaves: {n_leaves}\")"
   ]
  },
  {
   "cell_type": "code",
   "execution_count": 43,
   "id": "a7fa71b1-3dde-405c-ad01-64f50eeff815",
   "metadata": {},
   "outputs": [
    {
     "data": {
      "image/png": "[encoded data removed]",
      "text/plain": [
       "<Figure size 640x480 with 1 Axes>"
      ]
     },
     "metadata": {},
     "output_type": "display_data"
    }
   ],
   "source": [
    "sns.histplot(df_full['proba_dt']);"
   ]
  },
  {
   "cell_type": "code",
   "execution_count": 44,
   "id": "ccfc49db-51c5-47fb-b585-4e8c02c858c7",
   "metadata": {},
   "outputs": [],
   "source": [
    "thresholds = [84, 92]\n",
    "for threshold in thresholds:\n",
    "    df_full[f'pred_dt_{threshold}'] = (df_full['proba_dt'] >= threshold/100).astype(int)"
   ]
  },
  {
   "cell_type": "code",
   "execution_count": 45,
   "id": "bfabbe85-83c7-4e18-b62a-d7b6bd61c01b",
   "metadata": {},
   "outputs": [
    {
     "data": {
      "image/png": "[encoded data removed]",
      "text/plain": [
       "<Figure size 1000x400 with 2 Axes>"
      ]
     },
     "metadata": {},
     "output_type": "display_data"
    }
   ],
   "source": [
    "fig, axes = plt.subplots(1,2, figsize=(10,4))\n",
    "axes = axes.reshape(-1)\n",
    "for i, threshold in enumerate(thresholds):\n",
    "    df_sub = df_full.query(f\"(split == 'test') & (pred_dt_{threshold} == 1)\") \n",
    "    f= sns.histplot(df_sub['Date'], ax=axes[i]).set_title(f\"threshold: {threshold}, count: {len(df_sub)}\")\n",
    "    axes[i].tick_params(labelrotation=45)\n",
    "plt.tight_layout()"
   ]
  },
  {
   "cell_type": "markdown",
   "id": "19c5bc8b-726f-405a-9cfd-dbdf408bf66d",
   "metadata": {},
   "source": [
    "# 5. Trading simulation"
   ]
  },
  {
   "cell_type": "code",
   "execution_count": 46,
   "id": "27e41715-ffd5-4553-8dbd-84c96f8ca583",
   "metadata": {},
   "outputs": [
    {
     "data": {
      "text/plain": [
       "Index(['Weekday_5', 'Weekday_6', 'ticker_type_EU', 'ticker_type_INDIA',\n",
       "       'ticker_type_US', 'split', 'proba_dt', 'pred_dt', 'pred_dt_84',\n",
       "       'pred_dt_92'],\n",
       "      dtype='object')"
      ]
     },
     "execution_count": 46,
     "metadata": {},
     "output_type": "execute_result"
    }
   ],
   "source": [
    "df_full.columns[-10:]"
   ]
  },
  {
   "cell_type": "markdown",
   "id": "fc7cf557-8567-4511-9cd2-ce8d42cbbebd",
   "metadata": {},
   "source": [
    "### Investing $100 on every positive prediction"
   ]
  },
  {
   "cell_type": "code",
   "execution_count": 47,
   "id": "1e31c0a2-9465-495d-bbde-6eae81010b51",
   "metadata": {},
   "outputs": [],
   "source": [
    "def calculate_simulation(pred_column, verbose=True):\n",
    "   \n",
    "    # Fin. result columns: define new records for EACH positive prediction\n",
    "    df_full['gross_rev'] = df_full[pred_column] * 100 * (df_full['growth_future_30d'] - 1)\n",
    "    df_full['fees'] = -df_full[pred_column] * 100 * 0.002\n",
    "    df_full['net_rev'] = df_full['gross_rev'] + df_full['fees']\n",
    "\n",
    "    df_test = df_full.query(\"split == 'test'\") # filter records on TEST set\n",
    "    df_test_pred = df_test[df_test[pred_column] == 1] # when current prediction is 1 (we invest $100 for 1 week ahead - 5 periods)\n",
    "\n",
    "    # calculate agg. results for each PREDICTION columns (pred) on TEST\n",
    "    count_investments = len(df_test_pred)\n",
    "    gross_rev = df_test_pred['gross_rev'].sum()\n",
    "    fees = df_test_pred['fees'].sum()\n",
    "    net_rev = df_test_pred['net_rev'].sum()\n",
    "\n",
    "    # APPROXIMATE CAPITAL REQUIRED and CAGR Calculation\n",
    "    df_investments_count_daily = df_test_pred.groupby('Date', as_index=False)[pred_column].count()\n",
    "    avg_investments_per_day = df_investments_count_daily[pred_column].mean()\n",
    "    q75_investments_per_day = df_investments_count_daily[pred_column].quantile(0.75)  # 75% case - how many $100 investments per day do we have?\n",
    "    capital = 100 * 30 * q75_investments_per_day # 30 (trading) days  in a row with positive predictions\n",
    "    \n",
    "    # CAGR: average growth per year. E.g. if you have 1.5 return (50% growth in 4 years) --> (1.5)**(1/4) = 1.106 or 10.6% average\n",
    "    CAGR = ((capital + net_rev) / capital)**(1/4)\n",
    "\n",
    "    revenue = round(100*net_rev / capital,2) \n",
    "\n",
    "    results.append([pred_column,count_investments,int(gross_rev),int(fees),int(net_rev),avg_investments_per_day,capital,CAGR,revenue])\n",
    "\n",
    "    # output for all predictions with some positive predictions\n",
    "    if  verbose and count_investments > 1:\n",
    "        print(f'Calculating sumulation for prediction {pred_column}:')\n",
    "        print(f\"    Count times of investment {len(df_test_pred)} out of {len(df_test)} TEST records\")\n",
    "        print(f\"    Financial Result:\")\n",
    "        print(f\"        Count Investments in 4 years (on TEST): {count_investments}\")\n",
    "        print(f\"        Gross revenue: {gross_rev:.2f} $\")\n",
    "        print(f\"        Fees: {fees:.2f} $\")\n",
    "        print(f\"        Net revenue: {net_rev:.2f} $\")\n",
    "        print(f\"        Fees are {-100.0*fees/gross_rev:.2f} % from Gross Revenue\")\n",
    "        print(f\"        Capital Required : {capital} $ (Vbegin)\")\n",
    "        print(f\"        Final value (Vbegin + Net_revenue) : {capital + net_rev:.2f} $ (Vfinal)\")\n",
    "        print(f\"        >>> Final revenue : {revenue} %\")\n",
    "        print(f\"        Average CAGR on TEST (4 years) : {CAGR:.4f}, or {100*(CAGR-1):.1f}% \")\n",
    "\n",
    "        print(f\"        Average daily stats: \")\n",
    "        print(f\"            Average net revenue per investment: {net_rev/count_investments:.2f} $ \")\n",
    "        print(f\"            Average investments per day: {avg_investments_per_day:.2f} $ \")\n",
    "        print(f\"            Q75 investments per day: {q75_investments_per_day:.2f} $\")"
   ]
  },
  {
   "cell_type": "code",
   "execution_count": 49,
   "id": "4f12524b-7268-4e8e-a8e0-561b5d8bf081",
   "metadata": {},
   "outputs": [
    {
     "name": "stdout",
     "output_type": "stream",
     "text": [
      "Calculating sumulation for prediction pred_dt_92:\n",
      "    Count times of investment 11508 out of 31408 TEST records\n",
      "    Financial Result:\n",
      "        Count Investments in 4 years (on TEST): 11508\n",
      "        Gross revenue: 36130.38 $\n",
      "        Fees: -2301.60 $\n",
      "        Net revenue: 33888.78 $\n",
      "        Fees are 6.37 % from Gross Revenue\n",
      "        Capital Required : 42000.0 $ (Vbegin)\n",
      "        Final value (Vbegin + Net_revenue) : 75888.78 $ (Vfinal)\n",
      "        >>> Final revenue : 80.69 %\n",
      "        Average CAGR on TEST (4 years) : 1.1594, or 15.9% \n",
      "        Average daily stats: \n",
      "            Average net revenue per investment: 2.94 $ \n",
      "            Average investments per day: 11.71 $ \n",
      "            Q75 investments per day: 14.00 $\n"
     ]
    }
   ],
   "source": [
    "results = []\n",
    "calculate_simulation('pred_dt_92')"
   ]
  },
  {
   "cell_type": "markdown",
   "id": "4f44cbe0-3345-4a45-864b-489bccad63d2",
   "metadata": {},
   "source": [
    "### CAGR for pred_dt_92 is 1.1594"
   ]
  },
  {
   "cell_type": "code",
   "execution_count": null,
   "id": "3d0b9358-a313-4745-b2ed-b9f523a36237",
   "metadata": {},
   "outputs": [],
   "source": []
  },
  {
   "cell_type": "code",
   "execution_count": null,
   "id": "c0dc328f-b172-4ccf-aabe-06a955bf8760",
   "metadata": {},
   "outputs": [],
   "source": []
  }
 ],
 "metadata": {
  "kernelspec": {
   "display_name": "Python 3 (ipykernel)",
   "language": "python",
   "name": "python3"
  },
  "language_info": {
   "codemirror_mode": {
    "name": "ipython",
    "version": 3
   },
   "file_extension": ".py",
   "mimetype": "text/x-python",
   "name": "python",
   "nbconvert_exporter": "python",
   "pygments_lexer": "ipython3",
   "version": "3.9.21"
  }
 },
 "nbformat": 4,
 "nbformat_minor": 5
}
