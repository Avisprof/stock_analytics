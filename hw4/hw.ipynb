{
 "cells": [
  {
   "cell_type": "markdown",
   "id": "4f8bde0c-f405-4fba-9c76-8e0dcc8feac7",
   "metadata": {},
   "source": [
    "https://github.com/DataTalksClub/stock-markets-analytics-zoomcamp/blob/main/cohorts/2025/homework4.md"
   ]
  },
  {
   "cell_type": "markdown",
   "id": "edaf95e9-c57e-4e88-a381-dc0bf99d023a",
   "metadata": {},
   "source": [
    "# Question 1: Less Features is More"
   ]
  },
  {
   "cell_type": "markdown",
   "id": "9c1850e1-df20-401f-bf66-df487e210f01",
   "metadata": {},
   "source": [
    "Find the CAGR for the pred9_clf_second_best_rule_92 using the new setup (with fewer dummy variables)."
   ]
  },
  {
   "cell_type": "markdown",
   "id": "42d1086a-2400-4080-9472-5cf9f15d4b64",
   "metadata": {},
   "source": [
    "### [Solution # 1]('/hw_q1.ipynb')"
   ]
  },
  {
   "cell_type": "markdown",
   "id": "98411b5f-59e2-4060-94ea-841c532251d3",
   "metadata": {},
   "source": [
    "```\n",
    "Calculating sumulation for prediction pred_dt_92:\n",
    "    Count times of investment 11508 out of 31408 TEST records\n",
    "    Financial Result:\n",
    "        Count Investments in 4 years (on TEST): 11508\n",
    "        Gross revenue: 36130.38 $\n",
    "        Fees: -2301.60 $\n",
    "        Net revenue: 33888.78 $\n",
    "        Fees are 6.37 % from Gross Revenue\n",
    "        Capital Required : 42000.0 $ (Vbegin)\n",
    "        Final value (Vbegin + Net_revenue) : 75888.78 $ (Vfinal)\n",
    "        >>> Final revenue : 80.69 %\n",
    "        Average CAGR on TEST (4 years) : 1.1594, or 15.9% \n",
    "        Average daily stats: \n",
    "            Average net revenue per investment: 2.94 $ \n",
    "            Average investments per day: 11.71 $ \n",
    "            Q75 investments per day: 14.00 $\n",
    "```"
   ]
  },
  {
   "cell_type": "markdown",
   "id": "3b6943ff-518e-4b55-9096-27ee6daff191",
   "metadata": {},
   "source": [
    "Ans: 1.1594"
   ]
  },
  {
   "cell_type": "markdown",
   "id": "7c65831a-3076-4dad-b39c-411388714301",
   "metadata": {},
   "source": [
    "# Question 2: Best CAGR for Random Forest Decision Rule"
   ]
  },
  {
   "cell_type": "markdown",
   "id": "b11b6f4d-62bd-44f0-b8cf-2a876025f4bb",
   "metadata": {},
   "source": [
    "What is the probability threshold for the best Random Forest decision rule?"
   ]
  },
  {
   "cell_type": "markdown",
   "id": "3ce4b880-a3e9-4d0b-b3bd-c56ea50a4eb7",
   "metadata": {},
   "source": [
    "### [Solution # 2]('/hw_q2.ipynb')"
   ]
  },
  {
   "cell_type": "markdown",
   "id": "790f03b7-8f20-4af2-b89c-38acf1729ae4",
   "metadata": {},
   "source": [
    "```\n",
    "Calculating sumulation for prediction pred_rf_64:\n",
    "    Count times of investment 3702 out of 31408 TEST records\n",
    "    Financial Result:\n",
    "        Count Investments in 4 years (on TEST): 3702\n",
    "        Gross revenue: 10474.00 $\n",
    "        Fees: -740.40 $\n",
    "        Net revenue: 9754.80 $\n",
    "        Fees are 7.07 % from Gross Revenue\n",
    "        Capital Required : 21000.0 $ (Vbegin)\n",
    "        Final value (Vbegin + Net_revenue) : 30754.80 $ (Vfinal)\n",
    "        >>> Final revenue : 46.45 %\n",
    "        Average CAGR on TEST (4 years) : 1.1001, or 10.0% \n",
    "        Average daily stats: \n",
    "            Average net revenue per investment: 2.64 $ \n",
    "            Average investments per day: 5.21 $ \n",
    "            Q75 investments per day: 7.00 $\n",
    "```"
   ]
  },
  {
   "cell_type": "markdown",
   "id": "22741ffe-ad53-4e0c-9955-9360b6628cb2",
   "metadata": {},
   "source": [
    "Ans: 0.64"
   ]
  },
  {
   "cell_type": "markdown",
   "id": "11942f6b-0cf6-4150-aa6e-38240eb8b712",
   "metadata": {},
   "source": [
    "# Question 3: Predicting Strong Future Growth"
   ]
  },
  {
   "cell_type": "markdown",
   "id": "a6cb35f1-f107-439c-ae3f-e1ccec9043e8",
   "metadata": {},
   "source": [
    "What is the CAGR for the best predictor of strong future growth (after redefining the target variable)?"
   ]
  },
  {
   "cell_type": "markdown",
   "id": "06c939eb-97f3-44a2-9d96-fcfa82b8e1d4",
   "metadata": {},
   "source": [
    "### [Solution # 3]('/hw_q3.ipynb')"
   ]
  },
  {
   "cell_type": "markdown",
   "id": "0a2e6092-fbd3-4e66-a5a8-a60eef6e736b",
   "metadata": {},
   "source": [
    "```\n",
    "Calculating sumulation for prediction pred_dt:\n",
    "    Count times of investment 6403 out of 31408 TEST records\n",
    "    Financial Result:\n",
    "        Count Investments in 4 years (on TEST): 6403\n",
    "        Gross revenue: 18623.32 $\n",
    "        Fees: -1280.60 $\n",
    "        Net revenue: 17401.12 $\n",
    "        Fees are 6.88 % from Gross Revenue\n",
    "        Capital Required : 30000.0 $ (Vbegin)\n",
    "        Final value (Vbegin + Net_revenue) : 47401.12 $ (Vfinal)\n",
    "        >>> Final revenue : 58.0 %\n",
    "        Average CAGR on TEST (4 years) : 1.1212, or 12.1% \n",
    "        Average daily stats: \n",
    "            Average net revenue per investment: 2.72 $ \n",
    "            Average investments per day: 6.73 $ \n",
    "            Q75 investments per day: 10.00 $\n",
    "```"
   ]
  },
  {
   "cell_type": "markdown",
   "id": "015a4b3d-17b6-4abc-b027-f3122a92b9ec",
   "metadata": {},
   "source": [
    "Ans: 1.1212"
   ]
  },
  {
   "cell_type": "code",
   "execution_count": null,
   "id": "c1e5fc54-5a77-49e7-afdf-094488ddc9c5",
   "metadata": {},
   "outputs": [],
   "source": []
  }
 ],
 "metadata": {
  "kernelspec": {
   "display_name": "Python 3 (ipykernel)",
   "language": "python",
   "name": "python3"
  },
  "language_info": {
   "codemirror_mode": {
    "name": "ipython",
    "version": 3
   },
   "file_extension": ".py",
   "mimetype": "text/x-python",
   "name": "python",
   "nbconvert_exporter": "python",
   "pygments_lexer": "ipython3",
   "version": "3.9.21"
  }
 },
 "nbformat": 4,
 "nbformat_minor": 5
}
