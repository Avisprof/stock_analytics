{
 "cells": [
  {
   "cell_type": "markdown",
   "id": "7c213d43-69be-4505-8bb4-02f72761856a",
   "metadata": {},
   "source": [
    "https://github.com/DataTalksClub/stock-markets-analytics-zoomcamp/blob/main/cohorts/2025/homework%203.md"
   ]
  },
  {
   "cell_type": "code",
   "execution_count": 1,
   "id": "f0cc6442-d96f-47a3-8b76-de5e5e6695c3",
   "metadata": {},
   "outputs": [],
   "source": [
    "import numpy as np\n",
    "import pandas as pd\n",
    "import matplotlib.pyplot as plt\n",
    "import seaborn as sns"
   ]
  },
  {
   "cell_type": "code",
   "execution_count": 3,
   "id": "25c0ce2c-f1a2-4b31-b072-e876adb1a855",
   "metadata": {},
   "outputs": [],
   "source": [
    "from sklearn.tree import DecisionTreeClassifier\n",
    "from sklearn.metrics import precision_score"
   ]
  },
  {
   "cell_type": "markdown",
   "id": "3bc3ed50-02a4-4a11-a566-8a9e987904a6",
   "metadata": {},
   "source": [
    "# Question 1: Dummies for Month and Week-of-Month"
   ]
  },
  {
   "cell_type": "markdown",
   "id": "0ef4e0be-df6e-49e9-a784-d98f7002ee44",
   "metadata": {},
   "source": [
    "### 1.1 Read the data"
   ]
  },
  {
   "cell_type": "code",
   "execution_count": 4,
   "id": "daa90aaf-c9ce-45e0-89eb-714153e20cea",
   "metadata": {},
   "outputs": [],
   "source": [
    "# download data \n",
    "# import gdown\n",
    "#URL = 'https://drive.google.com/file/d/1mb0ae2M5AouSDlqcUnIwaHq7avwGNrmB/view?usp=sharing'\n",
    "#!gdown $URL --fuzzy -O ../data"
   ]
  },
  {
   "cell_type": "code",
   "execution_count": 5,
   "id": "4ab4ebab-d2ce-4b30-9f93-13eef29f750f",
   "metadata": {},
   "outputs": [
    {
     "name": "stdout",
     "output_type": "stream",
     "text": [
      "(230262, 203)\n"
     ]
    },
    {
     "data": {
      "text/html": [
       "<div>\n",
       "<style scoped>\n",
       "    .dataframe tbody tr th:only-of-type {\n",
       "        vertical-align: middle;\n",
       "    }\n",
       "\n",
       "    .dataframe tbody tr th {\n",
       "        vertical-align: top;\n",
       "    }\n",
       "\n",
       "    .dataframe thead th {\n",
       "        text-align: right;\n",
       "    }\n",
       "</style>\n",
       "<table border=\"1\" class=\"dataframe\">\n",
       "  <thead>\n",
       "    <tr style=\"text-align: right;\">\n",
       "      <th></th>\n",
       "      <th>Open</th>\n",
       "      <th>High</th>\n",
       "      <th>Low</th>\n",
       "      <th>Close_x</th>\n",
       "      <th>Volume</th>\n",
       "      <th>Dividends</th>\n",
       "      <th>Stock Splits</th>\n",
       "      <th>Ticker</th>\n",
       "      <th>Year</th>\n",
       "      <th>Month</th>\n",
       "      <th>...</th>\n",
       "      <th>growth_brent_oil_7d</th>\n",
       "      <th>growth_brent_oil_30d</th>\n",
       "      <th>growth_brent_oil_90d</th>\n",
       "      <th>growth_brent_oil_365d</th>\n",
       "      <th>growth_btc_usd_1d</th>\n",
       "      <th>growth_btc_usd_3d</th>\n",
       "      <th>growth_btc_usd_7d</th>\n",
       "      <th>growth_btc_usd_30d</th>\n",
       "      <th>growth_btc_usd_90d</th>\n",
       "      <th>growth_btc_usd_365d</th>\n",
       "    </tr>\n",
       "  </thead>\n",
       "  <tbody>\n",
       "    <tr>\n",
       "      <th>0</th>\n",
       "      <td>0.054277</td>\n",
       "      <td>0.062259</td>\n",
       "      <td>0.054277</td>\n",
       "      <td>0.059598</td>\n",
       "      <td>1.031789e+09</td>\n",
       "      <td>0.0</td>\n",
       "      <td>0.0</td>\n",
       "      <td>MSFT</td>\n",
       "      <td>1986</td>\n",
       "      <td>1986-03-01</td>\n",
       "      <td>...</td>\n",
       "      <td>NaN</td>\n",
       "      <td>NaN</td>\n",
       "      <td>NaN</td>\n",
       "      <td>NaN</td>\n",
       "      <td>NaN</td>\n",
       "      <td>NaN</td>\n",
       "      <td>NaN</td>\n",
       "      <td>NaN</td>\n",
       "      <td>NaN</td>\n",
       "      <td>NaN</td>\n",
       "    </tr>\n",
       "    <tr>\n",
       "      <th>1</th>\n",
       "      <td>0.059598</td>\n",
       "      <td>0.062791</td>\n",
       "      <td>0.059598</td>\n",
       "      <td>0.061726</td>\n",
       "      <td>3.081600e+08</td>\n",
       "      <td>0.0</td>\n",
       "      <td>0.0</td>\n",
       "      <td>MSFT</td>\n",
       "      <td>1986</td>\n",
       "      <td>1986-03-01</td>\n",
       "      <td>...</td>\n",
       "      <td>NaN</td>\n",
       "      <td>NaN</td>\n",
       "      <td>NaN</td>\n",
       "      <td>NaN</td>\n",
       "      <td>NaN</td>\n",
       "      <td>NaN</td>\n",
       "      <td>NaN</td>\n",
       "      <td>NaN</td>\n",
       "      <td>NaN</td>\n",
       "      <td>NaN</td>\n",
       "    </tr>\n",
       "    <tr>\n",
       "      <th>2</th>\n",
       "      <td>0.061726</td>\n",
       "      <td>0.063323</td>\n",
       "      <td>0.061726</td>\n",
       "      <td>0.062791</td>\n",
       "      <td>1.331712e+08</td>\n",
       "      <td>0.0</td>\n",
       "      <td>0.0</td>\n",
       "      <td>MSFT</td>\n",
       "      <td>1986</td>\n",
       "      <td>1986-03-01</td>\n",
       "      <td>...</td>\n",
       "      <td>NaN</td>\n",
       "      <td>NaN</td>\n",
       "      <td>NaN</td>\n",
       "      <td>NaN</td>\n",
       "      <td>NaN</td>\n",
       "      <td>NaN</td>\n",
       "      <td>NaN</td>\n",
       "      <td>NaN</td>\n",
       "      <td>NaN</td>\n",
       "      <td>NaN</td>\n",
       "    </tr>\n",
       "    <tr>\n",
       "      <th>3</th>\n",
       "      <td>0.062791</td>\n",
       "      <td>0.063323</td>\n",
       "      <td>0.060662</td>\n",
       "      <td>0.061194</td>\n",
       "      <td>6.776640e+07</td>\n",
       "      <td>0.0</td>\n",
       "      <td>0.0</td>\n",
       "      <td>MSFT</td>\n",
       "      <td>1986</td>\n",
       "      <td>1986-03-01</td>\n",
       "      <td>...</td>\n",
       "      <td>NaN</td>\n",
       "      <td>NaN</td>\n",
       "      <td>NaN</td>\n",
       "      <td>NaN</td>\n",
       "      <td>NaN</td>\n",
       "      <td>NaN</td>\n",
       "      <td>NaN</td>\n",
       "      <td>NaN</td>\n",
       "      <td>NaN</td>\n",
       "      <td>NaN</td>\n",
       "    </tr>\n",
       "    <tr>\n",
       "      <th>4</th>\n",
       "      <td>0.061194</td>\n",
       "      <td>0.061726</td>\n",
       "      <td>0.059598</td>\n",
       "      <td>0.060130</td>\n",
       "      <td>4.789440e+07</td>\n",
       "      <td>0.0</td>\n",
       "      <td>0.0</td>\n",
       "      <td>MSFT</td>\n",
       "      <td>1986</td>\n",
       "      <td>1986-03-01</td>\n",
       "      <td>...</td>\n",
       "      <td>NaN</td>\n",
       "      <td>NaN</td>\n",
       "      <td>NaN</td>\n",
       "      <td>NaN</td>\n",
       "      <td>NaN</td>\n",
       "      <td>NaN</td>\n",
       "      <td>NaN</td>\n",
       "      <td>NaN</td>\n",
       "      <td>NaN</td>\n",
       "      <td>NaN</td>\n",
       "    </tr>\n",
       "  </tbody>\n",
       "</table>\n",
       "<p>5 rows × 203 columns</p>\n",
       "</div>"
      ],
      "text/plain": [
       "       Open      High       Low   Close_x        Volume  Dividends  \\\n",
       "0  0.054277  0.062259  0.054277  0.059598  1.031789e+09        0.0   \n",
       "1  0.059598  0.062791  0.059598  0.061726  3.081600e+08        0.0   \n",
       "2  0.061726  0.063323  0.061726  0.062791  1.331712e+08        0.0   \n",
       "3  0.062791  0.063323  0.060662  0.061194  6.776640e+07        0.0   \n",
       "4  0.061194  0.061726  0.059598  0.060130  4.789440e+07        0.0   \n",
       "\n",
       "   Stock Splits Ticker  Year      Month  ...  growth_brent_oil_7d  \\\n",
       "0           0.0   MSFT  1986 1986-03-01  ...                  NaN   \n",
       "1           0.0   MSFT  1986 1986-03-01  ...                  NaN   \n",
       "2           0.0   MSFT  1986 1986-03-01  ...                  NaN   \n",
       "3           0.0   MSFT  1986 1986-03-01  ...                  NaN   \n",
       "4           0.0   MSFT  1986 1986-03-01  ...                  NaN   \n",
       "\n",
       "  growth_brent_oil_30d  growth_brent_oil_90d  growth_brent_oil_365d  \\\n",
       "0                  NaN                   NaN                    NaN   \n",
       "1                  NaN                   NaN                    NaN   \n",
       "2                  NaN                   NaN                    NaN   \n",
       "3                  NaN                   NaN                    NaN   \n",
       "4                  NaN                   NaN                    NaN   \n",
       "\n",
       "   growth_btc_usd_1d  growth_btc_usd_3d  growth_btc_usd_7d  \\\n",
       "0                NaN                NaN                NaN   \n",
       "1                NaN                NaN                NaN   \n",
       "2                NaN                NaN                NaN   \n",
       "3                NaN                NaN                NaN   \n",
       "4                NaN                NaN                NaN   \n",
       "\n",
       "   growth_btc_usd_30d  growth_btc_usd_90d  growth_btc_usd_365d  \n",
       "0                 NaN                 NaN                  NaN  \n",
       "1                 NaN                 NaN                  NaN  \n",
       "2                 NaN                 NaN                  NaN  \n",
       "3                 NaN                 NaN                  NaN  \n",
       "4                 NaN                 NaN                  NaN  \n",
       "\n",
       "[5 rows x 203 columns]"
      ]
     },
     "execution_count": 5,
     "metadata": {},
     "output_type": "execute_result"
    }
   ],
   "source": [
    "df_full = pd.read_parquet('../data/stocks_df_combined.parquet')\n",
    "print(df_full.shape)\n",
    "df_full.head()"
   ]
  },
  {
   "cell_type": "code",
   "execution_count": 6,
   "id": "eb3e553b-d2fd-4585-98f5-3d756bfc3298",
   "metadata": {},
   "outputs": [
    {
     "data": {
      "text/plain": [
       "Index(['Open', 'High', 'Low', 'Close_x', 'Volume', 'Dividends', 'Stock Splits',\n",
       "       'Ticker', 'Year', 'Month', 'Weekday', 'Date', 'growth_1d', 'growth_3d',\n",
       "       'growth_7d'],\n",
       "      dtype='object')"
      ]
     },
     "execution_count": 6,
     "metadata": {},
     "output_type": "execute_result"
    }
   ],
   "source": [
    "df_full.columns[:15]"
   ]
  },
  {
   "cell_type": "code",
   "execution_count": 7,
   "id": "c4b67735-2f5f-49be-b558-2e92418c86a6",
   "metadata": {},
   "outputs": [],
   "source": [
    "# compute the week of the month:\n",
    "df_full['week_of_month'] = df_full['Date'].apply(lambda d: (d.day-1) // 7 + 1).astype(str)\n",
    "df_full['Month'] = df_full['Month'].dt.strftime('%B').str.lower()\n",
    "df_full['Weekday'] = df_full['Weekday'].astype(str)"
   ]
  },
  {
   "cell_type": "code",
   "execution_count": 8,
   "id": "a8d94c45-c653-4e26-9477-fccafd8c18a3",
   "metadata": {},
   "outputs": [
    {
     "data": {
      "text/plain": [
       "0    march_2\n",
       "1    march_2\n",
       "2    march_3\n",
       "3    march_3\n",
       "4    march_3\n",
       "Name: month_wom, dtype: object"
      ]
     },
     "execution_count": 8,
     "metadata": {},
     "output_type": "execute_result"
    }
   ],
   "source": [
    "# Create a new string variable that combines the month name and week of the month. \n",
    "# Example: 'October_w1', 'November_w2', etc.\n",
    "df_full['month_wom'] = df_full['Month']+'_'+df_full['week_of_month']\n",
    "df_full['month_wom'].head()"
   ]
  },
  {
   "cell_type": "markdown",
   "id": "314e28fe-cbb5-4f6f-8206-1978c6517b3a",
   "metadata": {},
   "source": [
    "### 1.2 Define columns"
   ]
  },
  {
   "cell_type": "code",
   "execution_count": 9,
   "id": "ea0c0950-0527-402b-bdbd-c3b247b97e4f",
   "metadata": {},
   "outputs": [
    {
     "name": "stderr",
     "output_type": "stream",
     "text": [
      "/tmp/ipykernel_4392/4076114231.py:2: RuntimeWarning: divide by zero encountered in log\n",
      "  df_full['ln_volume'] = df_full['Volume'].apply(lambda x: np.log(x))\n"
     ]
    }
   ],
   "source": [
    "# let's define on more custom numerical features\n",
    "df_full['ln_volume'] = df_full['Volume'].apply(lambda x: np.log(x))"
   ]
  },
  {
   "cell_type": "code",
   "execution_count": 10,
   "id": "677e8271-8aae-4c7a-a05a-a52149bdc6ef",
   "metadata": {},
   "outputs": [],
   "source": [
    "TARGET = 'is_positive_growth_30d_future'\n",
    "CATEGORICAL = ['Month', 'Weekday', 'Ticker', 'ticker_type', 'month_wom']\n",
    "GROWTH = [g for g in df_full.keys() if (g.find('growth_')==0)&(g.find('future')<0)]\n",
    "OHLCV = ['Open','High','Low','Close','Adj Close_x','Volume']\n",
    "TO_PREDICT = [g for g in df_full.keys() if (g.find('future')>=0)]\n",
    "TO_DROP = ['Year','Date','index_x', 'index_y', 'index', 'Quarter','Adj Close_y'] + CATEGORICAL + OHLCV\n",
    "CUSTOM_NUMERICAL = ['SMA10', 'SMA20', 'growing_moving_average', 'high_minus_low_relative','volatility', 'ln_volume']\n",
    "MONTH_VOM = df_full['month_wom'].unique().tolist()"
   ]
  },
  {
   "cell_type": "code",
   "execution_count": 11,
   "id": "3dbcf5b9-0395-4597-96f1-23b524f8f0b8",
   "metadata": {},
   "outputs": [],
   "source": [
    "TECHNICAL_INDICATORS = ['adx', 'adxr', 'apo', 'aroon_1','aroon_2', 'aroonosc',\n",
    " 'bop', 'cci', 'cmo','dx', 'macd', 'macdsignal', 'macdhist', 'macd_ext',\n",
    " 'macdsignal_ext', 'macdhist_ext', 'macd_fix', 'macdsignal_fix',\n",
    " 'macdhist_fix', 'mfi', 'minus_di', 'mom', 'plus_di', 'dm', 'ppo',\n",
    " 'roc', 'rocp', 'rocr', 'rocr100', 'rsi', 'slowk', 'slowd', 'fastk',\n",
    " 'fastd', 'fastk_rsi', 'fastd_rsi', 'trix', 'ultosc', 'willr',\n",
    " 'ad', 'adosc', 'obv', 'atr', 'natr', 'ht_dcperiod', 'ht_dcphase',\n",
    " 'ht_phasor_inphase', 'ht_phasor_quadrature', 'ht_sine_sine', 'ht_sine_leadsine',\n",
    " 'ht_trendmod', 'avgprice', 'medprice', 'typprice', 'wclprice']"
   ]
  },
  {
   "cell_type": "code",
   "execution_count": 12,
   "id": "f506fb81-5176-40c8-9820-15845996ba3e",
   "metadata": {},
   "outputs": [
    {
     "name": "stdout",
     "output_type": "stream",
     "text": [
      "Technical patterns count = 61, examples = ['cdl2crows', 'cdl3blackrows', 'cdl3inside', 'cdl3linestrike', 'cdl3outside']\n"
     ]
    }
   ],
   "source": [
    "TECHNICAL_PATTERNS = [g for g in df_full.keys() if g.find('cdl')>=0]\n",
    "print(f'Technical patterns count = {len(TECHNICAL_PATTERNS)}, examples = {TECHNICAL_PATTERNS[0:5]}')"
   ]
  },
  {
   "cell_type": "code",
   "execution_count": 13,
   "id": "71e1364d-9c21-433d-8e14-d9519cc8634f",
   "metadata": {},
   "outputs": [],
   "source": [
    "MACRO = ['gdppot_us_yoy', 'gdppot_us_qoq', 'cpi_core_yoy', 'cpi_core_mom', 'FEDFUNDS',\n",
    " 'DGS1', 'DGS5', 'DGS10']"
   ]
  },
  {
   "cell_type": "code",
   "execution_count": 14,
   "id": "d9ececdc-b311-47e2-8b7b-a05d5fb074f3",
   "metadata": {},
   "outputs": [],
   "source": [
    "NUMERICAL = GROWTH + TECHNICAL_INDICATORS + TECHNICAL_PATTERNS + CUSTOM_NUMERICAL + MACRO"
   ]
  },
  {
   "cell_type": "code",
   "execution_count": 15,
   "id": "317fc8cd-9a98-4475-8a8c-6ac79dd24475",
   "metadata": {},
   "outputs": [
    {
     "data": {
      "text/plain": [
       "['Close_x',\n",
       " 'Dividends',\n",
       " 'Stock Splits',\n",
       " 'growth_future_30d',\n",
       " 'is_positive_growth_30d_future',\n",
       " 'Close_y',\n",
       " 'week_of_month']"
      ]
     },
     "execution_count": 15,
     "metadata": {},
     "output_type": "execute_result"
    }
   ],
   "source": [
    "# CHECK: NO OTHER INDICATORS LEFT\n",
    "OTHER = [k for k in df_full.keys() if k not in OHLCV + CATEGORICAL + NUMERICAL + TO_DROP]\n",
    "OTHER"
   ]
  },
  {
   "cell_type": "code",
   "execution_count": 16,
   "id": "07c78eea-7d75-4be7-a8ef-7ae17d79ded9",
   "metadata": {},
   "outputs": [
    {
     "name": "stdout",
     "output_type": "stream",
     "text": [
      "<class 'pandas.core.frame.DataFrame'>\n",
      "Index: 191795 entries, 3490 to 5700\n",
      "Columns: 206 entries, Open to ln_volume\n",
      "dtypes: datetime64[ns](2), float64(130), int32(63), int64(5), object(6)\n",
      "memory usage: 256.8+ MB\n"
     ]
    }
   ],
   "source": [
    "# truncated df_full with 25 years of data (and defined growth variables)\n",
    "df = df_full[df_full.Date>='2000-01-01'].copy()\n",
    "df.info()"
   ]
  },
  {
   "cell_type": "markdown",
   "id": "176eb025-9bd2-4e21-bffe-1d69507fce87",
   "metadata": {},
   "source": [
    "### 1.3 Define dummies"
   ]
  },
  {
   "cell_type": "code",
   "execution_count": 17,
   "id": "f4158b59-b3cd-4163-9976-efbac7d2adda",
   "metadata": {},
   "outputs": [
    {
     "name": "stdout",
     "output_type": "stream",
     "text": [
      "(191795, 115)\n"
     ]
    },
    {
     "data": {
      "text/html": [
       "<div>\n",
       "<style scoped>\n",
       "    .dataframe tbody tr th:only-of-type {\n",
       "        vertical-align: middle;\n",
       "    }\n",
       "\n",
       "    .dataframe tbody tr th {\n",
       "        vertical-align: top;\n",
       "    }\n",
       "\n",
       "    .dataframe thead th {\n",
       "        text-align: right;\n",
       "    }\n",
       "</style>\n",
       "<table border=\"1\" class=\"dataframe\">\n",
       "  <thead>\n",
       "    <tr style=\"text-align: right;\">\n",
       "      <th></th>\n",
       "      <th>Month_april</th>\n",
       "      <th>Month_august</th>\n",
       "      <th>Month_december</th>\n",
       "      <th>Month_february</th>\n",
       "      <th>Month_january</th>\n",
       "      <th>Month_july</th>\n",
       "      <th>Month_june</th>\n",
       "      <th>Month_march</th>\n",
       "      <th>Month_may</th>\n",
       "      <th>Month_november</th>\n",
       "      <th>...</th>\n",
       "      <th>month_wom_october_1</th>\n",
       "      <th>month_wom_october_2</th>\n",
       "      <th>month_wom_october_3</th>\n",
       "      <th>month_wom_october_4</th>\n",
       "      <th>month_wom_october_5</th>\n",
       "      <th>month_wom_september_1</th>\n",
       "      <th>month_wom_september_2</th>\n",
       "      <th>month_wom_september_3</th>\n",
       "      <th>month_wom_september_4</th>\n",
       "      <th>month_wom_september_5</th>\n",
       "    </tr>\n",
       "  </thead>\n",
       "  <tbody>\n",
       "    <tr>\n",
       "      <th>3490</th>\n",
       "      <td>0</td>\n",
       "      <td>0</td>\n",
       "      <td>0</td>\n",
       "      <td>0</td>\n",
       "      <td>1</td>\n",
       "      <td>0</td>\n",
       "      <td>0</td>\n",
       "      <td>0</td>\n",
       "      <td>0</td>\n",
       "      <td>0</td>\n",
       "      <td>...</td>\n",
       "      <td>0</td>\n",
       "      <td>0</td>\n",
       "      <td>0</td>\n",
       "      <td>0</td>\n",
       "      <td>0</td>\n",
       "      <td>0</td>\n",
       "      <td>0</td>\n",
       "      <td>0</td>\n",
       "      <td>0</td>\n",
       "      <td>0</td>\n",
       "    </tr>\n",
       "    <tr>\n",
       "      <th>3491</th>\n",
       "      <td>0</td>\n",
       "      <td>0</td>\n",
       "      <td>0</td>\n",
       "      <td>0</td>\n",
       "      <td>1</td>\n",
       "      <td>0</td>\n",
       "      <td>0</td>\n",
       "      <td>0</td>\n",
       "      <td>0</td>\n",
       "      <td>0</td>\n",
       "      <td>...</td>\n",
       "      <td>0</td>\n",
       "      <td>0</td>\n",
       "      <td>0</td>\n",
       "      <td>0</td>\n",
       "      <td>0</td>\n",
       "      <td>0</td>\n",
       "      <td>0</td>\n",
       "      <td>0</td>\n",
       "      <td>0</td>\n",
       "      <td>0</td>\n",
       "    </tr>\n",
       "    <tr>\n",
       "      <th>3492</th>\n",
       "      <td>0</td>\n",
       "      <td>0</td>\n",
       "      <td>0</td>\n",
       "      <td>0</td>\n",
       "      <td>1</td>\n",
       "      <td>0</td>\n",
       "      <td>0</td>\n",
       "      <td>0</td>\n",
       "      <td>0</td>\n",
       "      <td>0</td>\n",
       "      <td>...</td>\n",
       "      <td>0</td>\n",
       "      <td>0</td>\n",
       "      <td>0</td>\n",
       "      <td>0</td>\n",
       "      <td>0</td>\n",
       "      <td>0</td>\n",
       "      <td>0</td>\n",
       "      <td>0</td>\n",
       "      <td>0</td>\n",
       "      <td>0</td>\n",
       "    </tr>\n",
       "    <tr>\n",
       "      <th>3493</th>\n",
       "      <td>0</td>\n",
       "      <td>0</td>\n",
       "      <td>0</td>\n",
       "      <td>0</td>\n",
       "      <td>1</td>\n",
       "      <td>0</td>\n",
       "      <td>0</td>\n",
       "      <td>0</td>\n",
       "      <td>0</td>\n",
       "      <td>0</td>\n",
       "      <td>...</td>\n",
       "      <td>0</td>\n",
       "      <td>0</td>\n",
       "      <td>0</td>\n",
       "      <td>0</td>\n",
       "      <td>0</td>\n",
       "      <td>0</td>\n",
       "      <td>0</td>\n",
       "      <td>0</td>\n",
       "      <td>0</td>\n",
       "      <td>0</td>\n",
       "    </tr>\n",
       "    <tr>\n",
       "      <th>3494</th>\n",
       "      <td>0</td>\n",
       "      <td>0</td>\n",
       "      <td>0</td>\n",
       "      <td>0</td>\n",
       "      <td>1</td>\n",
       "      <td>0</td>\n",
       "      <td>0</td>\n",
       "      <td>0</td>\n",
       "      <td>0</td>\n",
       "      <td>0</td>\n",
       "      <td>...</td>\n",
       "      <td>0</td>\n",
       "      <td>0</td>\n",
       "      <td>0</td>\n",
       "      <td>0</td>\n",
       "      <td>0</td>\n",
       "      <td>0</td>\n",
       "      <td>0</td>\n",
       "      <td>0</td>\n",
       "      <td>0</td>\n",
       "      <td>0</td>\n",
       "    </tr>\n",
       "  </tbody>\n",
       "</table>\n",
       "<p>5 rows × 115 columns</p>\n",
       "</div>"
      ],
      "text/plain": [
       "      Month_april  Month_august  Month_december  Month_february  \\\n",
       "3490            0             0               0               0   \n",
       "3491            0             0               0               0   \n",
       "3492            0             0               0               0   \n",
       "3493            0             0               0               0   \n",
       "3494            0             0               0               0   \n",
       "\n",
       "      Month_january  Month_july  Month_june  Month_march  Month_may  \\\n",
       "3490              1           0           0            0          0   \n",
       "3491              1           0           0            0          0   \n",
       "3492              1           0           0            0          0   \n",
       "3493              1           0           0            0          0   \n",
       "3494              1           0           0            0          0   \n",
       "\n",
       "      Month_november  ...  month_wom_october_1  month_wom_october_2  \\\n",
       "3490               0  ...                    0                    0   \n",
       "3491               0  ...                    0                    0   \n",
       "3492               0  ...                    0                    0   \n",
       "3493               0  ...                    0                    0   \n",
       "3494               0  ...                    0                    0   \n",
       "\n",
       "      month_wom_october_3  month_wom_october_4  month_wom_october_5  \\\n",
       "3490                    0                    0                    0   \n",
       "3491                    0                    0                    0   \n",
       "3492                    0                    0                    0   \n",
       "3493                    0                    0                    0   \n",
       "3494                    0                    0                    0   \n",
       "\n",
       "      month_wom_september_1  month_wom_september_2  month_wom_september_3  \\\n",
       "3490                      0                      0                      0   \n",
       "3491                      0                      0                      0   \n",
       "3492                      0                      0                      0   \n",
       "3493                      0                      0                      0   \n",
       "3494                      0                      0                      0   \n",
       "\n",
       "      month_wom_september_4  month_wom_september_5  \n",
       "3490                      0                      0  \n",
       "3491                      0                      0  \n",
       "3492                      0                      0  \n",
       "3493                      0                      0  \n",
       "3494                      0                      0  \n",
       "\n",
       "[5 rows x 115 columns]"
      ]
     },
     "execution_count": 17,
     "metadata": {},
     "output_type": "execute_result"
    }
   ],
   "source": [
    "dummy_variables = pd.get_dummies(df[CATEGORICAL], dtype='int32')\n",
    "print(dummy_variables.shape)\n",
    "dummy_variables.head()"
   ]
  },
  {
   "cell_type": "code",
   "execution_count": 18,
   "id": "d60c3e78-0998-44e6-95d4-e62011106a18",
   "metadata": {},
   "outputs": [
    {
     "name": "stdout",
     "output_type": "stream",
     "text": [
      "(191795, 321)\n",
      "<class 'pandas.core.frame.DataFrame'>\n",
      "Index: 191795 entries, 3490 to 5700\n",
      "Columns: 321 entries, Open to month_wom_september_5\n",
      "dtypes: datetime64[ns](2), float64(130), int32(178), int64(5), object(6)\n",
      "memory usage: 340.9+ MB\n"
     ]
    }
   ],
   "source": [
    "# Concatenate the dummy variables with the original DataFrame\n",
    "df_with_dummies = pd.concat([df, dummy_variables], axis=1)\n",
    "print(df_with_dummies.shape)\n",
    "df_with_dummies.info()"
   ]
  },
  {
   "cell_type": "code",
   "execution_count": 19,
   "id": "e58a86c1-19e1-454c-80e5-b42e29c6f8c0",
   "metadata": {},
   "outputs": [],
   "source": [
    "DUMMIES = dummy_variables.columns.to_list()"
   ]
  },
  {
   "cell_type": "markdown",
   "id": "0180ae65-c091-4128-8baa-912b6d022b75",
   "metadata": {},
   "source": [
    "### 1.4 Correlation analysis"
   ]
  },
  {
   "cell_type": "code",
   "execution_count": 20,
   "id": "61304c44-868d-40fb-9d1d-26b3bb30a6e3",
   "metadata": {},
   "outputs": [],
   "source": [
    "# compute the correlation between each feature and the target variable is_positive_growth_30d_future.\n",
    "corr_is_positive_growth_30d_future = df_with_dummies[NUMERICAL+DUMMIES+TO_PREDICT].corr()[TARGET]"
   ]
  },
  {
   "cell_type": "code",
   "execution_count": 21,
   "id": "5eb9eb5f-d525-4e48-a8f9-bdaf58528ed0",
   "metadata": {},
   "outputs": [
    {
     "data": {
      "text/html": [
       "<div>\n",
       "<style scoped>\n",
       "    .dataframe tbody tr th:only-of-type {\n",
       "        vertical-align: middle;\n",
       "    }\n",
       "\n",
       "    .dataframe tbody tr th {\n",
       "        vertical-align: top;\n",
       "    }\n",
       "\n",
       "    .dataframe thead th {\n",
       "        text-align: right;\n",
       "    }\n",
       "</style>\n",
       "<table border=\"1\" class=\"dataframe\">\n",
       "  <thead>\n",
       "    <tr style=\"text-align: right;\">\n",
       "      <th></th>\n",
       "      <th>is_positive_growth_30d_future</th>\n",
       "    </tr>\n",
       "  </thead>\n",
       "  <tbody>\n",
       "    <tr>\n",
       "      <th>month_wom_april_1</th>\n",
       "      <td>-0.001600</td>\n",
       "    </tr>\n",
       "    <tr>\n",
       "      <th>month_wom_april_2</th>\n",
       "      <td>-0.002640</td>\n",
       "    </tr>\n",
       "    <tr>\n",
       "      <th>month_wom_april_3</th>\n",
       "      <td>0.006208</td>\n",
       "    </tr>\n",
       "    <tr>\n",
       "      <th>month_wom_april_4</th>\n",
       "      <td>0.004110</td>\n",
       "    </tr>\n",
       "    <tr>\n",
       "      <th>month_wom_april_5</th>\n",
       "      <td>0.001731</td>\n",
       "    </tr>\n",
       "  </tbody>\n",
       "</table>\n",
       "</div>"
      ],
      "text/plain": [
       "                   is_positive_growth_30d_future\n",
       "month_wom_april_1                      -0.001600\n",
       "month_wom_april_2                      -0.002640\n",
       "month_wom_april_3                       0.006208\n",
       "month_wom_april_4                       0.004110\n",
       "month_wom_april_5                       0.001731"
      ]
     },
     "execution_count": 21,
     "metadata": {},
     "output_type": "execute_result"
    }
   ],
   "source": [
    "# Filter the correlation results to include only the dummy variables generated from month_wom\n",
    "df_corr_filtered = pd.DataFrame(corr_is_positive_growth_30d_future[corr_is_positive_growth_30d_future.index.str.startswith('month_wom')])\n",
    "df_corr_filtered.head()"
   ]
  },
  {
   "cell_type": "code",
   "execution_count": 22,
   "id": "ca47b06b-3c5e-4d10-9a8f-9c3c27a7787e",
   "metadata": {},
   "outputs": [
    {
     "data": {
      "text/html": [
       "<div>\n",
       "<style scoped>\n",
       "    .dataframe tbody tr th:only-of-type {\n",
       "        vertical-align: middle;\n",
       "    }\n",
       "\n",
       "    .dataframe tbody tr th {\n",
       "        vertical-align: top;\n",
       "    }\n",
       "\n",
       "    .dataframe thead th {\n",
       "        text-align: right;\n",
       "    }\n",
       "</style>\n",
       "<table border=\"1\" class=\"dataframe\">\n",
       "  <thead>\n",
       "    <tr style=\"text-align: right;\">\n",
       "      <th></th>\n",
       "      <th>is_positive_growth_30d_future</th>\n",
       "      <th>abs_corr</th>\n",
       "    </tr>\n",
       "  </thead>\n",
       "  <tbody>\n",
       "    <tr>\n",
       "      <th>month_wom_april_1</th>\n",
       "      <td>-0.001600</td>\n",
       "      <td>0.001600</td>\n",
       "    </tr>\n",
       "    <tr>\n",
       "      <th>month_wom_april_2</th>\n",
       "      <td>-0.002640</td>\n",
       "      <td>0.002640</td>\n",
       "    </tr>\n",
       "    <tr>\n",
       "      <th>month_wom_april_3</th>\n",
       "      <td>0.006208</td>\n",
       "      <td>0.006208</td>\n",
       "    </tr>\n",
       "    <tr>\n",
       "      <th>month_wom_april_4</th>\n",
       "      <td>0.004110</td>\n",
       "      <td>0.004110</td>\n",
       "    </tr>\n",
       "    <tr>\n",
       "      <th>month_wom_april_5</th>\n",
       "      <td>0.001731</td>\n",
       "      <td>0.001731</td>\n",
       "    </tr>\n",
       "  </tbody>\n",
       "</table>\n",
       "</div>"
      ],
      "text/plain": [
       "                   is_positive_growth_30d_future  abs_corr\n",
       "month_wom_april_1                      -0.001600  0.001600\n",
       "month_wom_april_2                      -0.002640  0.002640\n",
       "month_wom_april_3                       0.006208  0.006208\n",
       "month_wom_april_4                       0.004110  0.004110\n",
       "month_wom_april_5                       0.001731  0.001731"
      ]
     },
     "execution_count": 22,
     "metadata": {},
     "output_type": "execute_result"
    }
   ],
   "source": [
    "# Create a new column named `abs_corr` in the correlation results that stores the absolute value of the correlations.\n",
    "df_corr_filtered['abs_corr'] = abs(df_corr_filtered[TARGET])\n",
    "df_corr_filtered.head()"
   ]
  },
  {
   "cell_type": "code",
   "execution_count": 23,
   "id": "631c593f-cc4e-47d0-ba3b-3bb934d7e820",
   "metadata": {},
   "outputs": [
    {
     "data": {
      "text/html": [
       "<div>\n",
       "<style scoped>\n",
       "    .dataframe tbody tr th:only-of-type {\n",
       "        vertical-align: middle;\n",
       "    }\n",
       "\n",
       "    .dataframe tbody tr th {\n",
       "        vertical-align: top;\n",
       "    }\n",
       "\n",
       "    .dataframe thead th {\n",
       "        text-align: right;\n",
       "    }\n",
       "</style>\n",
       "<table border=\"1\" class=\"dataframe\">\n",
       "  <thead>\n",
       "    <tr style=\"text-align: right;\">\n",
       "      <th></th>\n",
       "      <th>is_positive_growth_30d_future</th>\n",
       "      <th>abs_corr</th>\n",
       "    </tr>\n",
       "  </thead>\n",
       "  <tbody>\n",
       "    <tr>\n",
       "      <th>month_wom_october_4</th>\n",
       "      <td>0.024968</td>\n",
       "      <td>0.024968</td>\n",
       "    </tr>\n",
       "    <tr>\n",
       "      <th>month_wom_november_3</th>\n",
       "      <td>0.022097</td>\n",
       "      <td>0.022097</td>\n",
       "    </tr>\n",
       "    <tr>\n",
       "      <th>month_wom_november_2</th>\n",
       "      <td>0.018822</td>\n",
       "      <td>0.018822</td>\n",
       "    </tr>\n",
       "    <tr>\n",
       "      <th>month_wom_january_2</th>\n",
       "      <td>-0.018327</td>\n",
       "      <td>0.018327</td>\n",
       "    </tr>\n",
       "    <tr>\n",
       "      <th>month_wom_october_3</th>\n",
       "      <td>0.017734</td>\n",
       "      <td>0.017734</td>\n",
       "    </tr>\n",
       "  </tbody>\n",
       "</table>\n",
       "</div>"
      ],
      "text/plain": [
       "                      is_positive_growth_30d_future  abs_corr\n",
       "month_wom_october_4                        0.024968  0.024968\n",
       "month_wom_november_3                       0.022097  0.022097\n",
       "month_wom_november_2                       0.018822  0.018822\n",
       "month_wom_january_2                       -0.018327  0.018327\n",
       "month_wom_october_3                        0.017734  0.017734"
      ]
     },
     "execution_count": 23,
     "metadata": {},
     "output_type": "execute_result"
    }
   ],
   "source": [
    "# Sort the correlation results by abs_corr in descending order.\n",
    "df_corr_filtered.sort_values('abs_corr', ascending=False, inplace=True)\n",
    "df_corr_filtered.head()"
   ]
  },
  {
   "cell_type": "code",
   "execution_count": 24,
   "id": "d1e08413-cf71-4832-bf8e-81050dc70ff2",
   "metadata": {},
   "outputs": [
    {
     "data": {
      "text/plain": [
       "np.float64(0.025)"
      ]
     },
     "execution_count": 24,
     "metadata": {},
     "output_type": "execute_result"
    }
   ],
   "source": [
    "# Identify and report the highest absolute correlation value among the month_wom dummy variables, rounded to three decimal places.\n",
    "df_corr_filtered.iloc[0]['abs_corr'].round(3)"
   ]
  },
  {
   "cell_type": "markdown",
   "id": "2493594b-4e63-4d4c-b971-9d0e4ccdd7cf",
   "metadata": {},
   "source": [
    "# Question 2: Define New \"Hand\" Rules on Macro and Technical Indicator Variables"
   ]
  },
  {
   "cell_type": "markdown",
   "id": "f690402f-b042-479c-964b-8b334e91de5e",
   "metadata": {},
   "source": [
    "### 2.1 Split the data"
   ]
  },
  {
   "cell_type": "code",
   "execution_count": 25,
   "id": "598e8a4f-440d-47b2-be63-53abe5659c39",
   "metadata": {},
   "outputs": [],
   "source": [
    "def temporal_split(df, min_date, max_date, train_prop=0.7, val_prop=0.15, test_prop=0.15):\n",
    "    \"\"\"\n",
    "    Splits a DataFrame into three buckets based on the temporal order of the 'Date' column.\n",
    "\n",
    "    Args:\n",
    "        df (DataFrame): The DataFrame to split.\n",
    "        min_date (str or Timestamp): Minimum date in the DataFrame.\n",
    "        max_date (str or Timestamp): Maximum date in the DataFrame.\n",
    "        train_prop (float): Proportion of data for training set (default: 0.6).\n",
    "        val_prop (float): Proportion of data for validation set (default: 0.2).\n",
    "        test_prop (float): Proportion of data for test set (default: 0.2).\n",
    "\n",
    "    Returns:\n",
    "        DataFrame: The input DataFrame with a new column 'split' indicating the split for each row.\n",
    "    \"\"\"\n",
    "    # Define the date intervals\n",
    "    train_end = min_date + pd.Timedelta(days=(max_date - min_date).days * train_prop)\n",
    "    val_end = train_end + pd.Timedelta(days=(max_date - min_date).days * val_prop)\n",
    "\n",
    "    # Assign split labels based on date ranges\n",
    "    split_labels = []\n",
    "    for date in df['Date']:\n",
    "        if date <= train_end:\n",
    "            split_labels.append('train')\n",
    "        elif date <= val_end:\n",
    "            split_labels.append('validation')\n",
    "        else:\n",
    "            split_labels.append('test')\n",
    "\n",
    "    # Add 'split' column to the DataFrame\n",
    "    df['split'] = split_labels\n",
    "\n",
    "    return df"
   ]
  },
  {
   "cell_type": "code",
   "execution_count": 26,
   "id": "d8718f14-86fe-4774-90f8-e47c28c028c3",
   "metadata": {},
   "outputs": [
    {
     "data": {
      "text/plain": [
       "(Timestamp('2000-01-03 00:00:00'), Timestamp('2025-06-13 00:00:00'))"
      ]
     },
     "execution_count": 26,
     "metadata": {},
     "output_type": "execute_result"
    }
   ],
   "source": [
    "min_date_df = df_with_dummies.Date.min()\n",
    "max_date_df = df_with_dummies.Date.max()\n",
    "min_date_df, max_date_df"
   ]
  },
  {
   "cell_type": "code",
   "execution_count": 27,
   "id": "b9082a79-5c31-4b3e-9032-ce4ac07268b4",
   "metadata": {},
   "outputs": [],
   "source": [
    "df_with_dummies = temporal_split(df_with_dummies,\n",
    "                                 min_date = min_date_df,\n",
    "                                 max_date = max_date_df)"
   ]
  },
  {
   "cell_type": "code",
   "execution_count": 28,
   "id": "6f5d0439-b5da-4f9d-becc-c157f4e69ebf",
   "metadata": {},
   "outputs": [
    {
     "data": {
      "text/plain": [
       "split\n",
       "train         0.676399\n",
       "test          0.163758\n",
       "validation    0.159843\n",
       "Name: count, dtype: float64"
      ]
     },
     "execution_count": 28,
     "metadata": {},
     "output_type": "execute_result"
    }
   ],
   "source": [
    "df_with_dummies['split'].value_counts()/len(df_with_dummies)"
   ]
  },
  {
   "cell_type": "code",
   "execution_count": 29,
   "id": "757e950d-235e-4527-a55d-617860336b86",
   "metadata": {},
   "outputs": [],
   "source": [
    "# remove the \"segmentation\" problem (warning message on df performance after many joins and data transformations)\n",
    "new_df = df_with_dummies.copy()"
   ]
  },
  {
   "cell_type": "markdown",
   "id": "d0bb076a-50b8-4537-9855-b8db76cf6253",
   "metadata": {},
   "source": [
    "### 2.2 Manual \"hand rule\" predictions"
   ]
  },
  {
   "cell_type": "code",
   "execution_count": 30,
   "id": "3266b67c-9985-49d7-a9cd-6f940f1bf7d1",
   "metadata": {},
   "outputs": [],
   "source": [
    "# generate manual predictions\n",
    "# Let's label all prediction features with prefix \"pred\"\n",
    "new_df['pred0_manual_cci'] = (new_df['cci']>200).astype(int)\n",
    "new_df['pred1_manual_prev_g1'] = (new_df['growth_30d']>1).astype(int)\n",
    "new_df['pred2_manual_prev_g1_and_snp'] = ((new_df['growth_30d'] > 1) & (new_df['growth_snp500_30d'] > 1)).astype(int)"
   ]
  },
  {
   "cell_type": "code",
   "execution_count": 31,
   "id": "aa867b2f-d17b-438c-be20-f33fe090617c",
   "metadata": {},
   "outputs": [
    {
     "data": {
      "text/html": [
       "<div>\n",
       "<style scoped>\n",
       "    .dataframe tbody tr th:only-of-type {\n",
       "        vertical-align: middle;\n",
       "    }\n",
       "\n",
       "    .dataframe tbody tr th {\n",
       "        vertical-align: top;\n",
       "    }\n",
       "\n",
       "    .dataframe thead th {\n",
       "        text-align: right;\n",
       "    }\n",
       "</style>\n",
       "<table border=\"1\" class=\"dataframe\">\n",
       "  <thead>\n",
       "    <tr style=\"text-align: right;\">\n",
       "      <th></th>\n",
       "      <th>pred3_manual_dgs10_5</th>\n",
       "      <th>pred4_manual_dgs10_fedfunds</th>\n",
       "    </tr>\n",
       "  </thead>\n",
       "  <tbody>\n",
       "    <tr>\n",
       "      <th>3490</th>\n",
       "      <td>0</td>\n",
       "      <td>0</td>\n",
       "    </tr>\n",
       "    <tr>\n",
       "      <th>3491</th>\n",
       "      <td>0</td>\n",
       "      <td>0</td>\n",
       "    </tr>\n",
       "    <tr>\n",
       "      <th>3492</th>\n",
       "      <td>0</td>\n",
       "      <td>0</td>\n",
       "    </tr>\n",
       "    <tr>\n",
       "      <th>3493</th>\n",
       "      <td>0</td>\n",
       "      <td>0</td>\n",
       "    </tr>\n",
       "    <tr>\n",
       "      <th>3494</th>\n",
       "      <td>0</td>\n",
       "      <td>0</td>\n",
       "    </tr>\n",
       "  </tbody>\n",
       "</table>\n",
       "</div>"
      ],
      "text/plain": [
       "      pred3_manual_dgs10_5  pred4_manual_dgs10_fedfunds\n",
       "3490                     0                            0\n",
       "3491                     0                            0\n",
       "3492                     0                            0\n",
       "3493                     0                            0\n",
       "3494                     0                            0"
      ]
     },
     "execution_count": 31,
     "metadata": {},
     "output_type": "execute_result"
    }
   ],
   "source": [
    "# Define two new 'hand' rules based on branches that lead to 'positive' predictions in the tree:\n",
    "# pred3_manual_dgs10_5 (DGS10 <= 4) & (DGS5 <= 1)\n",
    "# pred4_manual_dgs10_fedfunds (DGS10 > 4) & (FEDFUNDS <= 4.795)\n",
    "new_df['pred3_manual_dgs10_5'] = ((new_df['DGS10'] <= 4) & (new_df['DGS5'] <= 1)).astype(int)\n",
    "new_df['pred4_manual_dgs10_fedfunds'] = ((new_df['DGS10'] > 4) & (new_df['FEDFUNDS'] <= 4.795)).astype(int)\n",
    "new_df[['pred3_manual_dgs10_5','pred4_manual_dgs10_fedfunds']].head()"
   ]
  },
  {
   "cell_type": "code",
   "execution_count": 32,
   "id": "8a1327f9-0f82-4335-b1aa-429d425c485c",
   "metadata": {},
   "outputs": [
    {
     "data": {
      "text/plain": [
       "['pred0_manual_cci',\n",
       " 'pred1_manual_prev_g1',\n",
       " 'pred2_manual_prev_g1_and_snp',\n",
       " 'pred3_manual_dgs10_5',\n",
       " 'pred4_manual_dgs10_fedfunds']"
      ]
     },
     "execution_count": 32,
     "metadata": {},
     "output_type": "execute_result"
    }
   ],
   "source": [
    "PREDICTIONS = [k for k in new_df.keys() if k.startswith('pred')]\n",
    "PREDICTIONS"
   ]
  },
  {
   "cell_type": "code",
   "execution_count": 33,
   "id": "9eaded1e-a77c-412e-88fd-08f8309cf209",
   "metadata": {},
   "outputs": [],
   "source": [
    "# generate columns is_correct_\n",
    "for pred in PREDICTIONS:\n",
    "  part1 = pred.split('_')[0] # first prefix before '_'\n",
    "  new_df[f'is_correct_{part1}'] =  (new_df[pred] == new_df[TARGET]).astype(int)"
   ]
  },
  {
   "cell_type": "code",
   "execution_count": 34,
   "id": "2a389067-8833-4d46-8018-a0cdb54eb0f6",
   "metadata": {},
   "outputs": [
    {
     "data": {
      "text/plain": [
       "['is_correct_pred0',\n",
       " 'is_correct_pred1',\n",
       " 'is_correct_pred2',\n",
       " 'is_correct_pred3',\n",
       " 'is_correct_pred4']"
      ]
     },
     "execution_count": 34,
     "metadata": {},
     "output_type": "execute_result"
    }
   ],
   "source": [
    "# IS_CORRECT dataset\n",
    "IS_CORRECT =  [k for k in new_df.keys() if k.startswith('is_correct_')]\n",
    "IS_CORRECT"
   ]
  },
  {
   "cell_type": "code",
   "execution_count": 35,
   "id": "da9b2028-bf27-4895-9702-073a1f7c536e",
   "metadata": {},
   "outputs": [
    {
     "data": {
      "text/html": [
       "<div>\n",
       "<style scoped>\n",
       "    .dataframe tbody tr th:only-of-type {\n",
       "        vertical-align: middle;\n",
       "    }\n",
       "\n",
       "    .dataframe tbody tr th {\n",
       "        vertical-align: top;\n",
       "    }\n",
       "\n",
       "    .dataframe thead th {\n",
       "        text-align: right;\n",
       "    }\n",
       "</style>\n",
       "<table border=\"1\" class=\"dataframe\">\n",
       "  <thead>\n",
       "    <tr style=\"text-align: right;\">\n",
       "      <th></th>\n",
       "      <th>pred0_manual_cci</th>\n",
       "      <th>pred1_manual_prev_g1</th>\n",
       "      <th>pred2_manual_prev_g1_and_snp</th>\n",
       "      <th>pred3_manual_dgs10_5</th>\n",
       "      <th>pred4_manual_dgs10_fedfunds</th>\n",
       "      <th>is_correct_pred0</th>\n",
       "      <th>is_correct_pred1</th>\n",
       "      <th>is_correct_pred2</th>\n",
       "      <th>is_correct_pred3</th>\n",
       "      <th>is_correct_pred4</th>\n",
       "      <th>is_positive_growth_30d_future</th>\n",
       "    </tr>\n",
       "  </thead>\n",
       "  <tbody>\n",
       "    <tr>\n",
       "      <th>2219</th>\n",
       "      <td>0</td>\n",
       "      <td>1</td>\n",
       "      <td>0</td>\n",
       "      <td>0</td>\n",
       "      <td>0</td>\n",
       "      <td>1</td>\n",
       "      <td>0</td>\n",
       "      <td>1</td>\n",
       "      <td>1</td>\n",
       "      <td>1</td>\n",
       "      <td>0</td>\n",
       "    </tr>\n",
       "    <tr>\n",
       "      <th>4270</th>\n",
       "      <td>0</td>\n",
       "      <td>1</td>\n",
       "      <td>1</td>\n",
       "      <td>1</td>\n",
       "      <td>0</td>\n",
       "      <td>1</td>\n",
       "      <td>0</td>\n",
       "      <td>0</td>\n",
       "      <td>0</td>\n",
       "      <td>1</td>\n",
       "      <td>0</td>\n",
       "    </tr>\n",
       "    <tr>\n",
       "      <th>2612</th>\n",
       "      <td>0</td>\n",
       "      <td>1</td>\n",
       "      <td>1</td>\n",
       "      <td>1</td>\n",
       "      <td>0</td>\n",
       "      <td>1</td>\n",
       "      <td>0</td>\n",
       "      <td>0</td>\n",
       "      <td>0</td>\n",
       "      <td>1</td>\n",
       "      <td>0</td>\n",
       "    </tr>\n",
       "    <tr>\n",
       "      <th>3969</th>\n",
       "      <td>0</td>\n",
       "      <td>1</td>\n",
       "      <td>1</td>\n",
       "      <td>0</td>\n",
       "      <td>0</td>\n",
       "      <td>1</td>\n",
       "      <td>0</td>\n",
       "      <td>0</td>\n",
       "      <td>1</td>\n",
       "      <td>1</td>\n",
       "      <td>0</td>\n",
       "    </tr>\n",
       "    <tr>\n",
       "      <th>2022</th>\n",
       "      <td>0</td>\n",
       "      <td>0</td>\n",
       "      <td>0</td>\n",
       "      <td>0</td>\n",
       "      <td>0</td>\n",
       "      <td>0</td>\n",
       "      <td>0</td>\n",
       "      <td>0</td>\n",
       "      <td>0</td>\n",
       "      <td>0</td>\n",
       "      <td>1</td>\n",
       "    </tr>\n",
       "  </tbody>\n",
       "</table>\n",
       "</div>"
      ],
      "text/plain": [
       "      pred0_manual_cci  pred1_manual_prev_g1  pred2_manual_prev_g1_and_snp  \\\n",
       "2219                 0                     1                             0   \n",
       "4270                 0                     1                             1   \n",
       "2612                 0                     1                             1   \n",
       "3969                 0                     1                             1   \n",
       "2022                 0                     0                             0   \n",
       "\n",
       "      pred3_manual_dgs10_5  pred4_manual_dgs10_fedfunds  is_correct_pred0  \\\n",
       "2219                     0                            0                 1   \n",
       "4270                     1                            0                 1   \n",
       "2612                     1                            0                 1   \n",
       "3969                     0                            0                 1   \n",
       "2022                     0                            0                 0   \n",
       "\n",
       "      is_correct_pred1  is_correct_pred2  is_correct_pred3  is_correct_pred4  \\\n",
       "2219                 0                 1                 1                 1   \n",
       "4270                 0                 0                 0                 1   \n",
       "2612                 0                 0                 0                 1   \n",
       "3969                 0                 0                 1                 1   \n",
       "2022                 0                 0                 0                 0   \n",
       "\n",
       "      is_positive_growth_30d_future  \n",
       "2219                              0  \n",
       "4270                              0  \n",
       "2612                              0  \n",
       "3969                              0  \n",
       "2022                              1  "
      ]
     },
     "execution_count": 35,
     "metadata": {},
     "output_type": "execute_result"
    }
   ],
   "source": [
    "# sample of a dataframe\n",
    "new_df[PREDICTIONS+IS_CORRECT+[TARGET]].sample(5)"
   ]
  },
  {
   "cell_type": "code",
   "execution_count": 36,
   "id": "2e75faf5-eb1f-45a6-a2c7-18965bd58769",
   "metadata": {},
   "outputs": [
    {
     "name": "stdout",
     "output_type": "stream",
     "text": [
      "precission score 0.558 for prediction column: pred0_manual_cci, is_correct_column: is_correct_pred0\n",
      "precission score 0.542 for prediction column: pred1_manual_prev_g1, is_correct_column: is_correct_pred1\n",
      "precission score 0.522 for prediction column: pred2_manual_prev_g1_and_snp, is_correct_column: is_correct_pred2\n",
      "precission score 0.580 for prediction column: pred3_manual_dgs10_5, is_correct_column: is_correct_pred3\n",
      "precission score 0.466 for prediction column: pred4_manual_dgs10_fedfunds, is_correct_column: is_correct_pred4\n"
     ]
    }
   ],
   "source": [
    "# define \"Precision\" for ALL predictions on a Test dataset (~4 last years of trading)\n",
    "for i,column in enumerate(IS_CORRECT):\n",
    "    prediction_column = PREDICTIONS[i]\n",
    "    is_correct_column = column\n",
    "    filter = (new_df.split=='test') & (new_df[prediction_column]==1)\n",
    "    p_score = precision_score(new_df[filter][TARGET], new_df[filter][prediction_column])\n",
    "    print(f'precission score {p_score:.3f} for prediction column: {prediction_column}, is_correct_column: {is_correct_column}')\n",
    "    #print(new_df[filter][is_correct_column].value_counts())\n",
    "    #print(new_df[filter][is_correct_column].value_counts()/len(new_df[filter]))\n",
    "    #print('---------')\n",
    "    #print()"
   ]
  },
  {
   "cell_type": "markdown",
   "id": "4a82eed8-daae-40f0-ad05-1bd01aca2484",
   "metadata": {},
   "source": [
    "####  What's the precision score for the best new rule? \n",
    "Ans: 0.580 for pred3_manual_dgs10_5"
   ]
  },
  {
   "cell_type": "markdown",
   "id": "ea227f25-ffa9-4f04-963b-7de0652850af",
   "metadata": {},
   "source": [
    "# Question 3: Unique Correct Predictions from a 10-Level Decision Tree Classifier (pred5_clf_10)"
   ]
  },
  {
   "cell_type": "markdown",
   "id": "b2f3f4c7-5fba-41e9-b582-c302ce98b477",
   "metadata": {},
   "source": [
    "### 3.1 Split the data"
   ]
  },
  {
   "cell_type": "code",
   "execution_count": 37,
   "id": "4ef13f44-b65f-423e-b359-e1d9a4b18e9a",
   "metadata": {},
   "outputs": [],
   "source": [
    "# Split the data into training and testing sets based on the split date\n",
    "features_list = NUMERICAL+DUMMIES"
   ]
  },
  {
   "cell_type": "code",
   "execution_count": 38,
   "id": "fa6bed60-d8cf-4829-bb91-2b05e5ecb79a",
   "metadata": {},
   "outputs": [
    {
     "data": {
      "text/plain": [
       "((160387, 332), (31408, 332), (30657, 332))"
      ]
     },
     "execution_count": 38,
     "metadata": {},
     "output_type": "execute_result"
    }
   ],
   "source": [
    "train_df = new_df[new_df['split'].isin(['train','validation'])]\n",
    "test_df = new_df[new_df['split'].isin(['test'])]\n",
    "val_df = new_df[new_df['split'].isin(['validation'])]\n",
    "train_df.shape, test_df.shape, val_df.shape"
   ]
  },
  {
   "cell_type": "code",
   "execution_count": 39,
   "id": "d5ae8354-3af7-4eeb-a958-46986fbcf889",
   "metadata": {},
   "outputs": [
    {
     "name": "stdout",
     "output_type": "stream",
     "text": [
      "length: X_train (160387, 301), y_train 160387\n",
      "length: X_test (31408, 301), y_test 31408\n",
      "length: X_val (30657, 301), y_val 30657\n",
      "length: X_full (191795, 301), y_full 191795\n"
     ]
    }
   ],
   "source": [
    "# ONLY numerical Separate features and target variable for training and testing sets\n",
    "# need Date and Ticker later when merging predictions to the dataset\n",
    "def get_X_y(df, suffix=''):\n",
    "    X = df[features_list+[TARGET,'Date','Ticker']].copy()\n",
    "    X.replace([np.inf, -np.inf], np.nan, inplace=True)\n",
    "    # Need to fill NaNs somehow\n",
    "    X.fillna(0, inplace=True)\n",
    "    y = X.pop(TARGET).values\n",
    "    print(f'length: X_{suffix} {X.shape}, y_{suffix} {len(y)}')\n",
    "    return X, y\n",
    "\n",
    "X_train, y_train = get_X_y(train_df, 'train')\n",
    "X_test, y_test = get_X_y(test_df, 'test')\n",
    "X_val, y_val = get_X_y(val_df, 'val')\n",
    "X_full, y_full = get_X_y(new_df, 'full')"
   ]
  },
  {
   "cell_type": "markdown",
   "id": "68557f8a-ae73-497a-9621-33361be54b2b",
   "metadata": {},
   "source": [
    "### 3.2 Fit the DecisionTreeClassifier"
   ]
  },
  {
   "cell_type": "code",
   "execution_count": 42,
   "id": "cf90fb13-9820-4686-8f06-18b8a412257d",
   "metadata": {},
   "outputs": [],
   "source": [
    "# Initialize a Decision Tree Classifier with a maximum depth of 10 and set random_state=42 for reproducibility.\n",
    "model = DecisionTreeClassifier(max_depth=10, random_state=42) "
   ]
  },
  {
   "cell_type": "code",
   "execution_count": 43,
   "id": "68937887-b98c-492d-967a-49438b269e93",
   "metadata": {},
   "outputs": [
    {
     "data": {
      "text/html": [
       "<style>#sk-container-id-1 {\n",
       "  /* Definition of color scheme common for light and dark mode */\n",
       "  --sklearn-color-text: #000;\n",
       "  --sklearn-color-text-muted: #666;\n",
       "  --sklearn-color-line: gray;\n",
       "  /* Definition of color scheme for unfitted estimators */\n",
       "  --sklearn-color-unfitted-level-0: #fff5e6;\n",
       "  --sklearn-color-unfitted-level-1: #f6e4d2;\n",
       "  --sklearn-color-unfitted-level-2: #ffe0b3;\n",
       "  --sklearn-color-unfitted-level-3: chocolate;\n",
       "  /* Definition of color scheme for fitted estimators */\n",
       "  --sklearn-color-fitted-level-0: #f0f8ff;\n",
       "  --sklearn-color-fitted-level-1: #d4ebff;\n",
       "  --sklearn-color-fitted-level-2: #b3dbfd;\n",
       "  --sklearn-color-fitted-level-3: cornflowerblue;\n",
       "\n",
       "  /* Specific color for light theme */\n",
       "  --sklearn-color-text-on-default-background: var(--sg-text-color, var(--theme-code-foreground, var(--jp-content-font-color1, black)));\n",
       "  --sklearn-color-background: var(--sg-background-color, var(--theme-background, var(--jp-layout-color0, white)));\n",
       "  --sklearn-color-border-box: var(--sg-text-color, var(--theme-code-foreground, var(--jp-content-font-color1, black)));\n",
       "  --sklearn-color-icon: #696969;\n",
       "\n",
       "  @media (prefers-color-scheme: dark) {\n",
       "    /* Redefinition of color scheme for dark theme */\n",
       "    --sklearn-color-text-on-default-background: var(--sg-text-color, var(--theme-code-foreground, var(--jp-content-font-color1, white)));\n",
       "    --sklearn-color-background: var(--sg-background-color, var(--theme-background, var(--jp-layout-color0, #111)));\n",
       "    --sklearn-color-border-box: var(--sg-text-color, var(--theme-code-foreground, var(--jp-content-font-color1, white)));\n",
       "    --sklearn-color-icon: #878787;\n",
       "  }\n",
       "}\n",
       "\n",
       "#sk-container-id-1 {\n",
       "  color: var(--sklearn-color-text);\n",
       "}\n",
       "\n",
       "#sk-container-id-1 pre {\n",
       "  padding: 0;\n",
       "}\n",
       "\n",
       "#sk-container-id-1 input.sk-hidden--visually {\n",
       "  border: 0;\n",
       "  clip: rect(1px 1px 1px 1px);\n",
       "  clip: rect(1px, 1px, 1px, 1px);\n",
       "  height: 1px;\n",
       "  margin: -1px;\n",
       "  overflow: hidden;\n",
       "  padding: 0;\n",
       "  position: absolute;\n",
       "  width: 1px;\n",
       "}\n",
       "\n",
       "#sk-container-id-1 div.sk-dashed-wrapped {\n",
       "  border: 1px dashed var(--sklearn-color-line);\n",
       "  margin: 0 0.4em 0.5em 0.4em;\n",
       "  box-sizing: border-box;\n",
       "  padding-bottom: 0.4em;\n",
       "  background-color: var(--sklearn-color-background);\n",
       "}\n",
       "\n",
       "#sk-container-id-1 div.sk-container {\n",
       "  /* jupyter's `normalize.less` sets `[hidden] { display: none; }`\n",
       "     but bootstrap.min.css set `[hidden] { display: none !important; }`\n",
       "     so we also need the `!important` here to be able to override the\n",
       "     default hidden behavior on the sphinx rendered scikit-learn.org.\n",
       "     See: https://github.com/scikit-learn/scikit-learn/issues/21755 */\n",
       "  display: inline-block !important;\n",
       "  position: relative;\n",
       "}\n",
       "\n",
       "#sk-container-id-1 div.sk-text-repr-fallback {\n",
       "  display: none;\n",
       "}\n",
       "\n",
       "div.sk-parallel-item,\n",
       "div.sk-serial,\n",
       "div.sk-item {\n",
       "  /* draw centered vertical line to link estimators */\n",
       "  background-image: linear-gradient(var(--sklearn-color-text-on-default-background), var(--sklearn-color-text-on-default-background));\n",
       "  background-size: 2px 100%;\n",
       "  background-repeat: no-repeat;\n",
       "  background-position: center center;\n",
       "}\n",
       "\n",
       "/* Parallel-specific style estimator block */\n",
       "\n",
       "#sk-container-id-1 div.sk-parallel-item::after {\n",
       "  content: \"\";\n",
       "  width: 100%;\n",
       "  border-bottom: 2px solid var(--sklearn-color-text-on-default-background);\n",
       "  flex-grow: 1;\n",
       "}\n",
       "\n",
       "#sk-container-id-1 div.sk-parallel {\n",
       "  display: flex;\n",
       "  align-items: stretch;\n",
       "  justify-content: center;\n",
       "  background-color: var(--sklearn-color-background);\n",
       "  position: relative;\n",
       "}\n",
       "\n",
       "#sk-container-id-1 div.sk-parallel-item {\n",
       "  display: flex;\n",
       "  flex-direction: column;\n",
       "}\n",
       "\n",
       "#sk-container-id-1 div.sk-parallel-item:first-child::after {\n",
       "  align-self: flex-end;\n",
       "  width: 50%;\n",
       "}\n",
       "\n",
       "#sk-container-id-1 div.sk-parallel-item:last-child::after {\n",
       "  align-self: flex-start;\n",
       "  width: 50%;\n",
       "}\n",
       "\n",
       "#sk-container-id-1 div.sk-parallel-item:only-child::after {\n",
       "  width: 0;\n",
       "}\n",
       "\n",
       "/* Serial-specific style estimator block */\n",
       "\n",
       "#sk-container-id-1 div.sk-serial {\n",
       "  display: flex;\n",
       "  flex-direction: column;\n",
       "  align-items: center;\n",
       "  background-color: var(--sklearn-color-background);\n",
       "  padding-right: 1em;\n",
       "  padding-left: 1em;\n",
       "}\n",
       "\n",
       "\n",
       "/* Toggleable style: style used for estimator/Pipeline/ColumnTransformer box that is\n",
       "clickable and can be expanded/collapsed.\n",
       "- Pipeline and ColumnTransformer use this feature and define the default style\n",
       "- Estimators will overwrite some part of the style using the `sk-estimator` class\n",
       "*/\n",
       "\n",
       "/* Pipeline and ColumnTransformer style (default) */\n",
       "\n",
       "#sk-container-id-1 div.sk-toggleable {\n",
       "  /* Default theme specific background. It is overwritten whether we have a\n",
       "  specific estimator or a Pipeline/ColumnTransformer */\n",
       "  background-color: var(--sklearn-color-background);\n",
       "}\n",
       "\n",
       "/* Toggleable label */\n",
       "#sk-container-id-1 label.sk-toggleable__label {\n",
       "  cursor: pointer;\n",
       "  display: flex;\n",
       "  width: 100%;\n",
       "  margin-bottom: 0;\n",
       "  padding: 0.5em;\n",
       "  box-sizing: border-box;\n",
       "  text-align: center;\n",
       "  align-items: start;\n",
       "  justify-content: space-between;\n",
       "  gap: 0.5em;\n",
       "}\n",
       "\n",
       "#sk-container-id-1 label.sk-toggleable__label .caption {\n",
       "  font-size: 0.6rem;\n",
       "  font-weight: lighter;\n",
       "  color: var(--sklearn-color-text-muted);\n",
       "}\n",
       "\n",
       "#sk-container-id-1 label.sk-toggleable__label-arrow:before {\n",
       "  /* Arrow on the left of the label */\n",
       "  content: \"▸\";\n",
       "  float: left;\n",
       "  margin-right: 0.25em;\n",
       "  color: var(--sklearn-color-icon);\n",
       "}\n",
       "\n",
       "#sk-container-id-1 label.sk-toggleable__label-arrow:hover:before {\n",
       "  color: var(--sklearn-color-text);\n",
       "}\n",
       "\n",
       "/* Toggleable content - dropdown */\n",
       "\n",
       "#sk-container-id-1 div.sk-toggleable__content {\n",
       "  max-height: 0;\n",
       "  max-width: 0;\n",
       "  overflow: hidden;\n",
       "  text-align: left;\n",
       "  /* unfitted */\n",
       "  background-color: var(--sklearn-color-unfitted-level-0);\n",
       "}\n",
       "\n",
       "#sk-container-id-1 div.sk-toggleable__content.fitted {\n",
       "  /* fitted */\n",
       "  background-color: var(--sklearn-color-fitted-level-0);\n",
       "}\n",
       "\n",
       "#sk-container-id-1 div.sk-toggleable__content pre {\n",
       "  margin: 0.2em;\n",
       "  border-radius: 0.25em;\n",
       "  color: var(--sklearn-color-text);\n",
       "  /* unfitted */\n",
       "  background-color: var(--sklearn-color-unfitted-level-0);\n",
       "}\n",
       "\n",
       "#sk-container-id-1 div.sk-toggleable__content.fitted pre {\n",
       "  /* unfitted */\n",
       "  background-color: var(--sklearn-color-fitted-level-0);\n",
       "}\n",
       "\n",
       "#sk-container-id-1 input.sk-toggleable__control:checked~div.sk-toggleable__content {\n",
       "  /* Expand drop-down */\n",
       "  max-height: 200px;\n",
       "  max-width: 100%;\n",
       "  overflow: auto;\n",
       "}\n",
       "\n",
       "#sk-container-id-1 input.sk-toggleable__control:checked~label.sk-toggleable__label-arrow:before {\n",
       "  content: \"▾\";\n",
       "}\n",
       "\n",
       "/* Pipeline/ColumnTransformer-specific style */\n",
       "\n",
       "#sk-container-id-1 div.sk-label input.sk-toggleable__control:checked~label.sk-toggleable__label {\n",
       "  color: var(--sklearn-color-text);\n",
       "  background-color: var(--sklearn-color-unfitted-level-2);\n",
       "}\n",
       "\n",
       "#sk-container-id-1 div.sk-label.fitted input.sk-toggleable__control:checked~label.sk-toggleable__label {\n",
       "  background-color: var(--sklearn-color-fitted-level-2);\n",
       "}\n",
       "\n",
       "/* Estimator-specific style */\n",
       "\n",
       "/* Colorize estimator box */\n",
       "#sk-container-id-1 div.sk-estimator input.sk-toggleable__control:checked~label.sk-toggleable__label {\n",
       "  /* unfitted */\n",
       "  background-color: var(--sklearn-color-unfitted-level-2);\n",
       "}\n",
       "\n",
       "#sk-container-id-1 div.sk-estimator.fitted input.sk-toggleable__control:checked~label.sk-toggleable__label {\n",
       "  /* fitted */\n",
       "  background-color: var(--sklearn-color-fitted-level-2);\n",
       "}\n",
       "\n",
       "#sk-container-id-1 div.sk-label label.sk-toggleable__label,\n",
       "#sk-container-id-1 div.sk-label label {\n",
       "  /* The background is the default theme color */\n",
       "  color: var(--sklearn-color-text-on-default-background);\n",
       "}\n",
       "\n",
       "/* On hover, darken the color of the background */\n",
       "#sk-container-id-1 div.sk-label:hover label.sk-toggleable__label {\n",
       "  color: var(--sklearn-color-text);\n",
       "  background-color: var(--sklearn-color-unfitted-level-2);\n",
       "}\n",
       "\n",
       "/* Label box, darken color on hover, fitted */\n",
       "#sk-container-id-1 div.sk-label.fitted:hover label.sk-toggleable__label.fitted {\n",
       "  color: var(--sklearn-color-text);\n",
       "  background-color: var(--sklearn-color-fitted-level-2);\n",
       "}\n",
       "\n",
       "/* Estimator label */\n",
       "\n",
       "#sk-container-id-1 div.sk-label label {\n",
       "  font-family: monospace;\n",
       "  font-weight: bold;\n",
       "  display: inline-block;\n",
       "  line-height: 1.2em;\n",
       "}\n",
       "\n",
       "#sk-container-id-1 div.sk-label-container {\n",
       "  text-align: center;\n",
       "}\n",
       "\n",
       "/* Estimator-specific */\n",
       "#sk-container-id-1 div.sk-estimator {\n",
       "  font-family: monospace;\n",
       "  border: 1px dotted var(--sklearn-color-border-box);\n",
       "  border-radius: 0.25em;\n",
       "  box-sizing: border-box;\n",
       "  margin-bottom: 0.5em;\n",
       "  /* unfitted */\n",
       "  background-color: var(--sklearn-color-unfitted-level-0);\n",
       "}\n",
       "\n",
       "#sk-container-id-1 div.sk-estimator.fitted {\n",
       "  /* fitted */\n",
       "  background-color: var(--sklearn-color-fitted-level-0);\n",
       "}\n",
       "\n",
       "/* on hover */\n",
       "#sk-container-id-1 div.sk-estimator:hover {\n",
       "  /* unfitted */\n",
       "  background-color: var(--sklearn-color-unfitted-level-2);\n",
       "}\n",
       "\n",
       "#sk-container-id-1 div.sk-estimator.fitted:hover {\n",
       "  /* fitted */\n",
       "  background-color: var(--sklearn-color-fitted-level-2);\n",
       "}\n",
       "\n",
       "/* Specification for estimator info (e.g. \"i\" and \"?\") */\n",
       "\n",
       "/* Common style for \"i\" and \"?\" */\n",
       "\n",
       ".sk-estimator-doc-link,\n",
       "a:link.sk-estimator-doc-link,\n",
       "a:visited.sk-estimator-doc-link {\n",
       "  float: right;\n",
       "  font-size: smaller;\n",
       "  line-height: 1em;\n",
       "  font-family: monospace;\n",
       "  background-color: var(--sklearn-color-background);\n",
       "  border-radius: 1em;\n",
       "  height: 1em;\n",
       "  width: 1em;\n",
       "  text-decoration: none !important;\n",
       "  margin-left: 0.5em;\n",
       "  text-align: center;\n",
       "  /* unfitted */\n",
       "  border: var(--sklearn-color-unfitted-level-1) 1pt solid;\n",
       "  color: var(--sklearn-color-unfitted-level-1);\n",
       "}\n",
       "\n",
       ".sk-estimator-doc-link.fitted,\n",
       "a:link.sk-estimator-doc-link.fitted,\n",
       "a:visited.sk-estimator-doc-link.fitted {\n",
       "  /* fitted */\n",
       "  border: var(--sklearn-color-fitted-level-1) 1pt solid;\n",
       "  color: var(--sklearn-color-fitted-level-1);\n",
       "}\n",
       "\n",
       "/* On hover */\n",
       "div.sk-estimator:hover .sk-estimator-doc-link:hover,\n",
       ".sk-estimator-doc-link:hover,\n",
       "div.sk-label-container:hover .sk-estimator-doc-link:hover,\n",
       ".sk-estimator-doc-link:hover {\n",
       "  /* unfitted */\n",
       "  background-color: var(--sklearn-color-unfitted-level-3);\n",
       "  color: var(--sklearn-color-background);\n",
       "  text-decoration: none;\n",
       "}\n",
       "\n",
       "div.sk-estimator.fitted:hover .sk-estimator-doc-link.fitted:hover,\n",
       ".sk-estimator-doc-link.fitted:hover,\n",
       "div.sk-label-container:hover .sk-estimator-doc-link.fitted:hover,\n",
       ".sk-estimator-doc-link.fitted:hover {\n",
       "  /* fitted */\n",
       "  background-color: var(--sklearn-color-fitted-level-3);\n",
       "  color: var(--sklearn-color-background);\n",
       "  text-decoration: none;\n",
       "}\n",
       "\n",
       "/* Span, style for the box shown on hovering the info icon */\n",
       ".sk-estimator-doc-link span {\n",
       "  display: none;\n",
       "  z-index: 9999;\n",
       "  position: relative;\n",
       "  font-weight: normal;\n",
       "  right: .2ex;\n",
       "  padding: .5ex;\n",
       "  margin: .5ex;\n",
       "  width: min-content;\n",
       "  min-width: 20ex;\n",
       "  max-width: 50ex;\n",
       "  color: var(--sklearn-color-text);\n",
       "  box-shadow: 2pt 2pt 4pt #999;\n",
       "  /* unfitted */\n",
       "  background: var(--sklearn-color-unfitted-level-0);\n",
       "  border: .5pt solid var(--sklearn-color-unfitted-level-3);\n",
       "}\n",
       "\n",
       ".sk-estimator-doc-link.fitted span {\n",
       "  /* fitted */\n",
       "  background: var(--sklearn-color-fitted-level-0);\n",
       "  border: var(--sklearn-color-fitted-level-3);\n",
       "}\n",
       "\n",
       ".sk-estimator-doc-link:hover span {\n",
       "  display: block;\n",
       "}\n",
       "\n",
       "/* \"?\"-specific style due to the `<a>` HTML tag */\n",
       "\n",
       "#sk-container-id-1 a.estimator_doc_link {\n",
       "  float: right;\n",
       "  font-size: 1rem;\n",
       "  line-height: 1em;\n",
       "  font-family: monospace;\n",
       "  background-color: var(--sklearn-color-background);\n",
       "  border-radius: 1rem;\n",
       "  height: 1rem;\n",
       "  width: 1rem;\n",
       "  text-decoration: none;\n",
       "  /* unfitted */\n",
       "  color: var(--sklearn-color-unfitted-level-1);\n",
       "  border: var(--sklearn-color-unfitted-level-1) 1pt solid;\n",
       "}\n",
       "\n",
       "#sk-container-id-1 a.estimator_doc_link.fitted {\n",
       "  /* fitted */\n",
       "  border: var(--sklearn-color-fitted-level-1) 1pt solid;\n",
       "  color: var(--sklearn-color-fitted-level-1);\n",
       "}\n",
       "\n",
       "/* On hover */\n",
       "#sk-container-id-1 a.estimator_doc_link:hover {\n",
       "  /* unfitted */\n",
       "  background-color: var(--sklearn-color-unfitted-level-3);\n",
       "  color: var(--sklearn-color-background);\n",
       "  text-decoration: none;\n",
       "}\n",
       "\n",
       "#sk-container-id-1 a.estimator_doc_link.fitted:hover {\n",
       "  /* fitted */\n",
       "  background-color: var(--sklearn-color-fitted-level-3);\n",
       "}\n",
       "</style><div id=\"sk-container-id-1\" class=\"sk-top-container\"><div class=\"sk-text-repr-fallback\"><pre>DecisionTreeClassifier(max_depth=10, random_state=42)</pre><b>In a Jupyter environment, please rerun this cell to show the HTML representation or trust the notebook. <br />On GitHub, the HTML representation is unable to render, please try loading this page with nbviewer.org.</b></div><div class=\"sk-container\" hidden><div class=\"sk-item\"><div class=\"sk-estimator fitted sk-toggleable\"><input class=\"sk-toggleable__control sk-hidden--visually\" id=\"sk-estimator-id-1\" type=\"checkbox\" checked><label for=\"sk-estimator-id-1\" class=\"sk-toggleable__label fitted sk-toggleable__label-arrow\"><div><div>DecisionTreeClassifier</div></div><div><a class=\"sk-estimator-doc-link fitted\" rel=\"noreferrer\" target=\"_blank\" href=\"https://scikit-learn.org/1.6/modules/generated/sklearn.tree.DecisionTreeClassifier.html\">?<span>Documentation for DecisionTreeClassifier</span></a><span class=\"sk-estimator-doc-link fitted\">i<span>Fitted</span></span></div></label><div class=\"sk-toggleable__content fitted\"><pre>DecisionTreeClassifier(max_depth=10, random_state=42)</pre></div> </div></div></div></div>"
      ],
      "text/plain": [
       "DecisionTreeClassifier(max_depth=10, random_state=42)"
      ]
     },
     "execution_count": 43,
     "metadata": {},
     "output_type": "execute_result"
    }
   ],
   "source": [
    "# Fit the classifier on the combined TRAIN and VALIDATION datasets\n",
    "model.fit(X_train.drop(['Date','Ticker'],axis=1), y_train)"
   ]
  },
  {
   "cell_type": "markdown",
   "id": "b1987a9d-f565-4473-a30f-1d5a463ec7ed",
   "metadata": {},
   "source": [
    "### 3.3 Make predicts"
   ]
  },
  {
   "cell_type": "code",
   "execution_count": 44,
   "id": "9e43f4db-6d2b-4963-b353-5720726446df",
   "metadata": {},
   "outputs": [],
   "source": [
    "# Use the trained model to predict on the entire dataset (TRAIN + VALIDATION + TEST)\n",
    "y_pred = model.predict(X_full.drop(['Date','Ticker'],axis=1))"
   ]
  },
  {
   "cell_type": "code",
   "execution_count": 45,
   "id": "337959a1-3249-4f23-bf8a-b393f683d655",
   "metadata": {},
   "outputs": [],
   "source": [
    "# Store these predictions in a new column named pred5_clf_10 within your main dataframe.\n",
    "new_df['pred5_clf_10'] = y_pred"
   ]
  },
  {
   "cell_type": "markdown",
   "id": "6445055b-5b79-4154-baa3-e3a67168804c",
   "metadata": {},
   "source": [
    "### 3.4 Evaluate the model"
   ]
  },
  {
   "cell_type": "code",
   "execution_count": 46,
   "id": "a304a70e-7347-484e-8fb9-863ce12ffde9",
   "metadata": {},
   "outputs": [],
   "source": [
    "# Create a new boolean column, only_pred5_is_correct, that is True only when:\n",
    "#  The prediction from pred5_clf_10 is correct (i.e., matches the true label).\n",
    "#  All other hand rule predictions (pred0 through pred4) are incorrect.\n",
    "new_df['only_pred5_is_correct'] = (new_df['pred5_clf_10'] == new_df[TARGET]) & (new_df[IS_CORRECT].sum(axis=1) == 0)"
   ]
  },
  {
   "cell_type": "code",
   "execution_count": 47,
   "id": "1d22a021-4b54-4bc3-bbd9-0feee1b6564d",
   "metadata": {},
   "outputs": [
    {
     "data": {
      "text/plain": [
       "np.int64(3770)"
      ]
     },
     "execution_count": 47,
     "metadata": {},
     "output_type": "execute_result"
    }
   ],
   "source": [
    "# Filter the dataframe for records belonging to the TEST dataset.\n",
    "# Count how many records in the TEST set have only_pred5_is_correct equal to 1.\n",
    "new_df.query(\"split == 'test'\")['only_pred5_is_correct'].sum()"
   ]
  },
  {
   "cell_type": "code",
   "execution_count": 68,
   "id": "6ec94771-dced-41c1-9aca-24a9b00bb11a",
   "metadata": {},
   "outputs": [],
   "source": [
    "# Ans: 3770"
   ]
  },
  {
   "cell_type": "markdown",
   "id": "20c744f0-7093-4f04-884e-70bdfaf3a92e",
   "metadata": {},
   "source": [
    "# Question 4: Hyperparameter tuning for a Decision Tree"
   ]
  },
  {
   "cell_type": "code",
   "execution_count": 48,
   "id": "e4c92b2b-4381-4d96-956b-d630a7430a22",
   "metadata": {},
   "outputs": [
    {
     "name": "stdout",
     "output_type": "stream",
     "text": [
      "[1, 0.5465816507261778, 0.6400495808461363]\n",
      "[2, 0.5510697911360163, 0.6400495808461363]\n",
      "[3, 0.5510697911360163, 0.6400495808461363]\n",
      "[4, 0.5510697911360163, 0.644022196065243]\n",
      "[5, 0.627845220030349, 0.717542250753308]\n",
      "[6, 0.5691415110800907, 0.7121739130434782]\n",
      "[7, 0.5938485804416404, 0.7172139383465295]\n",
      "[8, 0.5897136702270891, 0.7414014373716632]\n",
      "[9, 0.5915457349446327, 0.7604434589800444]\n",
      "[10, 0.5889278426037361, 0.7585901224145208]\n",
      "[11, 0.5947726306842329, 0.7876538820496867]\n",
      "[12, 0.5788757932910245, 0.7947124223058741]\n",
      "[13, 0.5828431861230187, 0.8095887998591177]\n",
      "[14, 0.57773410527434, 0.8248644837160107]\n",
      "[15, 0.5854521696520935, 0.8570831203828463]\n",
      "[16, 0.5904395868364161, 0.8768780119058868]\n",
      "[17, 0.5885812962063569, 0.8868740016912524]\n",
      "[18, 0.585290999386195, 0.9058469475494411]\n",
      "[19, 0.5856247284464031, 0.9319513516175095]\n",
      "[20, 0.5811975315505643, 0.9386063295460086]\n"
     ]
    }
   ],
   "source": [
    "# What is the optimal tree depth (from 1 to 20) for a DecisionTreeClassifier?\n",
    "results = []\n",
    "for max_depth in range(1, 21):\n",
    "    model = DecisionTreeClassifier(max_depth=max_depth, random_state=42)  \n",
    "\n",
    "    # Train a Decision Tree Classifier with the current max_depth on the combined TRAIN+VALIDATION dataset.\n",
    "    model.fit(X_train.drop(['Date','Ticker'],axis=1), y_train)\n",
    "\n",
    "    # Calculate the precision score on the TEST dataset for each fitted tree. \n",
    "    precission_test = precision_score(y_test,  model.predict(X_test.drop(['Date','Ticker'],axis=1)))\n",
    "    precission_val = precision_score(y_val, model.predict(X_val.drop(['Date','Ticker'],axis=1)))\n",
    "\n",
    "    results.append([max_depth, precission_test, precission_val])"
   ]
  },
  {
   "cell_type": "code",
   "execution_count": 49,
   "id": "5f60f706-d337-4922-b437-82406464565b",
   "metadata": {},
   "outputs": [
    {
     "data": {
      "text/html": [
       "<div>\n",
       "<style scoped>\n",
       "    .dataframe tbody tr th:only-of-type {\n",
       "        vertical-align: middle;\n",
       "    }\n",
       "\n",
       "    .dataframe tbody tr th {\n",
       "        vertical-align: top;\n",
       "    }\n",
       "\n",
       "    .dataframe thead th {\n",
       "        text-align: right;\n",
       "    }\n",
       "</style>\n",
       "<table border=\"1\" class=\"dataframe\">\n",
       "  <thead>\n",
       "    <tr style=\"text-align: right;\">\n",
       "      <th></th>\n",
       "      <th>max_depth</th>\n",
       "      <th>precission_test</th>\n",
       "      <th>precission_val</th>\n",
       "    </tr>\n",
       "  </thead>\n",
       "  <tbody>\n",
       "    <tr>\n",
       "      <th>0</th>\n",
       "      <td>1</td>\n",
       "      <td>0.546582</td>\n",
       "      <td>0.640050</td>\n",
       "    </tr>\n",
       "    <tr>\n",
       "      <th>1</th>\n",
       "      <td>2</td>\n",
       "      <td>0.551070</td>\n",
       "      <td>0.640050</td>\n",
       "    </tr>\n",
       "    <tr>\n",
       "      <th>2</th>\n",
       "      <td>3</td>\n",
       "      <td>0.551070</td>\n",
       "      <td>0.640050</td>\n",
       "    </tr>\n",
       "    <tr>\n",
       "      <th>3</th>\n",
       "      <td>4</td>\n",
       "      <td>0.551070</td>\n",
       "      <td>0.644022</td>\n",
       "    </tr>\n",
       "    <tr>\n",
       "      <th>4</th>\n",
       "      <td>5</td>\n",
       "      <td>0.627845</td>\n",
       "      <td>0.717542</td>\n",
       "    </tr>\n",
       "  </tbody>\n",
       "</table>\n",
       "</div>"
      ],
      "text/plain": [
       "   max_depth  precission_test  precission_val\n",
       "0          1         0.546582        0.640050\n",
       "1          2         0.551070        0.640050\n",
       "2          3         0.551070        0.640050\n",
       "3          4         0.551070        0.644022\n",
       "4          5         0.627845        0.717542"
      ]
     },
     "execution_count": 49,
     "metadata": {},
     "output_type": "execute_result"
    }
   ],
   "source": [
    "df_results = pd.DataFrame(results, columns=['max_depth','precission_test','precission_val'])\n",
    "df_results.head()"
   ]
  },
  {
   "cell_type": "code",
   "execution_count": 61,
   "id": "7ded3a6b-c83d-4d4c-a8e2-4ae4d6e14fe4",
   "metadata": {},
   "outputs": [
    {
     "data": {
      "text/html": [
       "<div>\n",
       "<style scoped>\n",
       "    .dataframe tbody tr th:only-of-type {\n",
       "        vertical-align: middle;\n",
       "    }\n",
       "\n",
       "    .dataframe tbody tr th {\n",
       "        vertical-align: top;\n",
       "    }\n",
       "\n",
       "    .dataframe thead th {\n",
       "        text-align: right;\n",
       "    }\n",
       "</style>\n",
       "<table border=\"1\" class=\"dataframe\">\n",
       "  <thead>\n",
       "    <tr style=\"text-align: right;\">\n",
       "      <th></th>\n",
       "      <th>max_depth</th>\n",
       "      <th>precission_test</th>\n",
       "      <th>precission_val</th>\n",
       "    </tr>\n",
       "  </thead>\n",
       "  <tbody>\n",
       "    <tr>\n",
       "      <th>4</th>\n",
       "      <td>5</td>\n",
       "      <td>0.627845</td>\n",
       "      <td>0.717542</td>\n",
       "    </tr>\n",
       "  </tbody>\n",
       "</table>\n",
       "</div>"
      ],
      "text/plain": [
       "   max_depth  precission_test  precission_val\n",
       "4          5         0.627845        0.717542"
      ]
     },
     "execution_count": 61,
     "metadata": {},
     "output_type": "execute_result"
    }
   ],
   "source": [
    "# Identify the optimal max_depth where the precision score on the TEST dataset is highest. \n",
    "# This value is your best_max_depth.\n",
    "df_results.sort_values(by='precission_test', ascending=False).head(1)"
   ]
  },
  {
   "cell_type": "code",
   "execution_count": 69,
   "id": "cc8ac75e-6149-4b04-9cf2-8de3cc5c7b5b",
   "metadata": {},
   "outputs": [],
   "source": [
    "# Ans: 5 is the best max_depth for a Decision Tree Classifier"
   ]
  },
  {
   "cell_type": "code",
   "execution_count": 60,
   "id": "6b9a405f-8b05-4af1-84ad-76c84158cfb2",
   "metadata": {},
   "outputs": [
    {
     "data": {
      "image/png": "[encoded data removed]",
      "text/plain": [
       "<Figure size 640x480 with 1 Axes>"
      ]
     },
     "metadata": {},
     "output_type": "display_data"
    }
   ],
   "source": [
    "# Plot the precision (or accuracy) scores against the max_depth values to detect saturation or overfitting trends.\n",
    "plt.plot(df_results['max_depth'], df_results['precission_test'], label='test', marker='o')\n",
    "plt.plot(df_results['max_depth'], df_results['precission_val'], label='val', marker='o')\n",
    "plt.title('Precission of DecisionTreeClassifier by max_depth')\n",
    "plt.xlabel('max_depth')\n",
    "plt.ylabel('precission')\n",
    "plt.legend();"
   ]
  },
  {
   "cell_type": "code",
   "execution_count": 62,
   "id": "bad5b84c-b3de-4845-a17b-36967ae84a0d",
   "metadata": {},
   "outputs": [],
   "source": [
    "model = DecisionTreeClassifier(max_depth=5, random_state=42)  \n",
    "model.fit(X_train.drop(['Date','Ticker'],axis=1), y_train)\n",
    "y_pred = model.predict(X_full.drop(['Date','Ticker'],axis=1))\n",
    "new_df['pred6_clf_best'] = y_pred"
   ]
  },
  {
   "cell_type": "code",
   "execution_count": 63,
   "id": "3fdb94a2-4edf-4d98-a0a7-ec05e766f06b",
   "metadata": {},
   "outputs": [
    {
     "data": {
      "text/plain": [
       "['pred0_manual_cci',\n",
       " 'pred1_manual_prev_g1',\n",
       " 'pred2_manual_prev_g1_and_snp',\n",
       " 'pred3_manual_dgs10_5',\n",
       " 'pred4_manual_dgs10_fedfunds',\n",
       " 'pred5_clf_10',\n",
       " 'pred6_clf_best']"
      ]
     },
     "execution_count": 63,
     "metadata": {},
     "output_type": "execute_result"
    }
   ],
   "source": [
    "# Compare the precision score of the tuned tree with previous predictions (pred0 to pred5). \n",
    "# You should observe an improvement, ideally achieving precision > 0.58, indicating the tuned tree outperforms earlier models.\n",
    "PREDICTIONS = [k for k in new_df.keys() if k.startswith('pred')]\n",
    "PREDICTIONS"
   ]
  },
  {
   "cell_type": "code",
   "execution_count": 64,
   "id": "7bd3937d-426f-4f74-8901-3893297c2137",
   "metadata": {},
   "outputs": [],
   "source": [
    "# generate columns is_correct_\n",
    "for pred in PREDICTIONS:\n",
    "  part1 = pred.split('_')[0] # first prefix before '_'\n",
    "  new_df[f'is_correct_{part1}'] =  (new_df[pred] == new_df[TARGET]).astype(int)"
   ]
  },
  {
   "cell_type": "code",
   "execution_count": 65,
   "id": "52314b07-40ca-4ef3-a7a8-57fb43e0a734",
   "metadata": {},
   "outputs": [
    {
     "data": {
      "text/plain": [
       "['is_correct_pred0',\n",
       " 'is_correct_pred1',\n",
       " 'is_correct_pred2',\n",
       " 'is_correct_pred3',\n",
       " 'is_correct_pred4',\n",
       " 'is_correct_pred5',\n",
       " 'is_correct_pred6']"
      ]
     },
     "execution_count": 65,
     "metadata": {},
     "output_type": "execute_result"
    }
   ],
   "source": [
    "# IS_CORRECT dataset\n",
    "IS_CORRECT =  [k for k in new_df.keys() if k.startswith('is_correct_')]\n",
    "IS_CORRECT"
   ]
  },
  {
   "cell_type": "code",
   "execution_count": 67,
   "id": "21d2b705-a0c0-432d-9e50-c78c996cb5dd",
   "metadata": {},
   "outputs": [
    {
     "name": "stdout",
     "output_type": "stream",
     "text": [
      "precission score 0.558 for prediction column pred0_manual_cci\n",
      "precission score 0.542 for prediction column pred1_manual_prev_g1\n",
      "precission score 0.522 for prediction column pred2_manual_prev_g1_and_snp\n",
      "precission score 0.580 for prediction column pred3_manual_dgs10_5\n",
      "precission score 0.466 for prediction column pred4_manual_dgs10_fedfunds\n",
      "precission score 0.589 for prediction column pred5_clf_10\n",
      "precission score 0.628 for prediction column pred6_clf_best\n"
     ]
    }
   ],
   "source": [
    "# define \"Precision\" for ALL predictions on a Test dataset (~4 last years of trading)\n",
    "for i,column in enumerate(IS_CORRECT):\n",
    "    prediction_column = PREDICTIONS[i]\n",
    "    is_correct_column = column\n",
    "    filter = (new_df.split=='test') & (new_df[prediction_column]==1)\n",
    "    p_score = precision_score(new_df[filter][TARGET], new_df[filter][prediction_column])\n",
    "    print(f'precission score {p_score:.3f} for prediction column {prediction_column}')"
   ]
  },
  {
   "cell_type": "markdown",
   "id": "3eaa1dfc-097a-450b-b8f1-e46305b7584f",
   "metadata": {},
   "source": [
    "#### The model with the tuned DT hyperparameters showed the best precission score (0.628)"
   ]
  }
 ],
 "metadata": {
  "kernelspec": {
   "display_name": "Python 3 (ipykernel)",
   "language": "python",
   "name": "python3"
  },
  "language_info": {
   "codemirror_mode": {
    "name": "ipython",
    "version": 3
   },
   "file_extension": ".py",
   "mimetype": "text/x-python",
   "name": "python",
   "nbconvert_exporter": "python",
   "pygments_lexer": "ipython3",
   "version": "3.9.21"
  }
 },
 "nbformat": 4,
 "nbformat_minor": 5
}
